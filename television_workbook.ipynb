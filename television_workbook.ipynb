{
 "cells": [
  {
   "cell_type": "markdown",
   "metadata": {},
   "source": [
    "# How can Microsoft maximize its share of the market in television content creation? "
   ]
  },
  {
   "cell_type": "markdown",
   "metadata": {},
   "source": [
    "# Objectives\n",
    "Try to find answers to following questions:\n",
    "* What should be our metric for success? ratings? popularity? both?\n",
    "* Are there certain genres to focus on?\n",
    "* What networks should we look to emulate?\n",
    "* Should we look to adapt other works or produce completely original work?"
   ]
  },
  {
   "cell_type": "markdown",
   "metadata": {},
   "source": [
    "**Let's dive in and look at the data we have.**"
   ]
  },
  {
   "cell_type": "code",
   "execution_count": 17,
   "metadata": {},
   "outputs": [],
   "source": [
    "# Import necessary libraries and modules\n",
    "import pandas as pd\n",
    "import numpy as np\n",
    "import ast\n",
    "from scipy import stats\n",
    "import matplotlib.pyplot as plt\n",
    "%matplotlib inline\n",
    "import seaborn as sns\n",
    "sns.set_style(\"ticks\")"
   ]
  },
  {
   "cell_type": "code",
   "execution_count": 18,
   "metadata": {},
   "outputs": [],
   "source": [
    "# Load dataframe\n",
    "df = pd.read_csv('top_television_data.csv', index_col=0)"
   ]
  },
  {
   "cell_type": "code",
   "execution_count": 19,
   "metadata": {},
   "outputs": [
    {
     "data": {
      "text/html": [
       "<div>\n",
       "<style scoped>\n",
       "    .dataframe tbody tr th:only-of-type {\n",
       "        vertical-align: middle;\n",
       "    }\n",
       "\n",
       "    .dataframe tbody tr th {\n",
       "        vertical-align: top;\n",
       "    }\n",
       "\n",
       "    .dataframe thead th {\n",
       "        text-align: right;\n",
       "    }\n",
       "</style>\n",
       "<table border=\"1\" class=\"dataframe\">\n",
       "  <thead>\n",
       "    <tr style=\"text-align: right;\">\n",
       "      <th></th>\n",
       "      <th>title</th>\n",
       "      <th>network</th>\n",
       "      <th>imdb_rating</th>\n",
       "      <th>num_imdb_ratings</th>\n",
       "      <th>rt_critic_rating</th>\n",
       "      <th>rt_audience_rating</th>\n",
       "      <th>genres</th>\n",
       "      <th>tv_rating</th>\n",
       "      <th>release_year</th>\n",
       "      <th>runtime_mins</th>\n",
       "      <th>imdb_url</th>\n",
       "    </tr>\n",
       "  </thead>\n",
       "  <tbody>\n",
       "    <tr>\n",
       "      <th>0</th>\n",
       "      <td>La Casa de Papel</td>\n",
       "      <td>Netflix</td>\n",
       "      <td>8.5</td>\n",
       "      <td>215007</td>\n",
       "      <td>91.0</td>\n",
       "      <td>82.0</td>\n",
       "      <td>['action', 'crime', 'mystery', 'thriller']</td>\n",
       "      <td>TV-MA</td>\n",
       "      <td>2017.0</td>\n",
       "      <td>70.0</td>\n",
       "      <td>https://www.imdb.com/title/tt6468322/</td>\n",
       "    </tr>\n",
       "    <tr>\n",
       "      <th>1</th>\n",
       "      <td>Ozark</td>\n",
       "      <td>Netflix</td>\n",
       "      <td>8.4</td>\n",
       "      <td>136710</td>\n",
       "      <td>81.0</td>\n",
       "      <td>91.0</td>\n",
       "      <td>['crime', 'drama', 'thriller']</td>\n",
       "      <td>TV-MA</td>\n",
       "      <td>2017.0</td>\n",
       "      <td>60.0</td>\n",
       "      <td>https://www.imdb.com/title/tt5071412/</td>\n",
       "    </tr>\n",
       "    <tr>\n",
       "      <th>2</th>\n",
       "      <td>Tiger King</td>\n",
       "      <td>Netflix</td>\n",
       "      <td>7.8</td>\n",
       "      <td>33700</td>\n",
       "      <td>86.0</td>\n",
       "      <td>86.0</td>\n",
       "      <td>['documentary', 'crime']</td>\n",
       "      <td>TV-MA</td>\n",
       "      <td>2020.0</td>\n",
       "      <td>31.0</td>\n",
       "      <td>https://www.imdb.com/title/tt11823076/</td>\n",
       "    </tr>\n",
       "    <tr>\n",
       "      <th>3</th>\n",
       "      <td>Westworld</td>\n",
       "      <td>HBO</td>\n",
       "      <td>8.7</td>\n",
       "      <td>388252</td>\n",
       "      <td>85.0</td>\n",
       "      <td>80.0</td>\n",
       "      <td>['drama', 'mystery', 'sci-fi', 'western']</td>\n",
       "      <td>TV-MA</td>\n",
       "      <td>2016.0</td>\n",
       "      <td>62.0</td>\n",
       "      <td>https://www.imdb.com/title/tt0475784/</td>\n",
       "    </tr>\n",
       "    <tr>\n",
       "      <th>4</th>\n",
       "      <td>The Walking Dead</td>\n",
       "      <td>AMC</td>\n",
       "      <td>8.2</td>\n",
       "      <td>821809</td>\n",
       "      <td>81.0</td>\n",
       "      <td>78.0</td>\n",
       "      <td>['drama', 'horror', 'thriller']</td>\n",
       "      <td>TV-MA</td>\n",
       "      <td>2010.0</td>\n",
       "      <td>44.0</td>\n",
       "      <td>https://www.imdb.com/title/tt1520211/</td>\n",
       "    </tr>\n",
       "    <tr>\n",
       "      <th>...</th>\n",
       "      <td>...</td>\n",
       "      <td>...</td>\n",
       "      <td>...</td>\n",
       "      <td>...</td>\n",
       "      <td>...</td>\n",
       "      <td>...</td>\n",
       "      <td>...</td>\n",
       "      <td>...</td>\n",
       "      <td>...</td>\n",
       "      <td>...</td>\n",
       "      <td>...</td>\n",
       "    </tr>\n",
       "    <tr>\n",
       "      <th>242</th>\n",
       "      <td>X-Men: The Animated Series</td>\n",
       "      <td>FOX</td>\n",
       "      <td>8.4</td>\n",
       "      <td>36051</td>\n",
       "      <td>85.0</td>\n",
       "      <td>97.0</td>\n",
       "      <td>['animation', 'action', 'family', 'sci-fi', 't...</td>\n",
       "      <td>TV-Y7</td>\n",
       "      <td>1992.0</td>\n",
       "      <td>23.0</td>\n",
       "      <td>https://www.imdb.com/title/tt0103584/</td>\n",
       "    </tr>\n",
       "    <tr>\n",
       "      <th>243</th>\n",
       "      <td>Futurama</td>\n",
       "      <td>Comedy Central</td>\n",
       "      <td>8.4</td>\n",
       "      <td>205817</td>\n",
       "      <td>95.0</td>\n",
       "      <td>96.0</td>\n",
       "      <td>['animation', 'comedy', 'sci-fi']</td>\n",
       "      <td>TV-14</td>\n",
       "      <td>1999.0</td>\n",
       "      <td>22.0</td>\n",
       "      <td>https://www.imdb.com/title/tt0149460/</td>\n",
       "    </tr>\n",
       "    <tr>\n",
       "      <th>244</th>\n",
       "      <td>Ezel</td>\n",
       "      <td>Netflix</td>\n",
       "      <td>8.4</td>\n",
       "      <td>23671</td>\n",
       "      <td>100.0</td>\n",
       "      <td>NaN</td>\n",
       "      <td>['crime', 'drama', 'thriller']</td>\n",
       "      <td>TV-14</td>\n",
       "      <td>2009.0</td>\n",
       "      <td>90.0</td>\n",
       "      <td>https://www.imdb.com/title/tt1534360/</td>\n",
       "    </tr>\n",
       "    <tr>\n",
       "      <th>245</th>\n",
       "      <td>American Crime Story</td>\n",
       "      <td>FX</td>\n",
       "      <td>8.4</td>\n",
       "      <td>74208</td>\n",
       "      <td>93.0</td>\n",
       "      <td>94.0</td>\n",
       "      <td>['biography', 'crime', 'drama']</td>\n",
       "      <td>TV-MA</td>\n",
       "      <td>2016.0</td>\n",
       "      <td>42.0</td>\n",
       "      <td>https://www.imdb.com/title/tt2788432/</td>\n",
       "    </tr>\n",
       "    <tr>\n",
       "      <th>246</th>\n",
       "      <td>Delhi Crime</td>\n",
       "      <td>Netflix</td>\n",
       "      <td>8.4</td>\n",
       "      <td>8273</td>\n",
       "      <td>92.0</td>\n",
       "      <td>93.0</td>\n",
       "      <td>['crime', 'drama']</td>\n",
       "      <td>unrated</td>\n",
       "      <td>2019.0</td>\n",
       "      <td>50.0</td>\n",
       "      <td>https://www.imdb.com/title/tt9398466/</td>\n",
       "    </tr>\n",
       "  </tbody>\n",
       "</table>\n",
       "<p>247 rows × 11 columns</p>\n",
       "</div>"
      ],
      "text/plain": [
       "                          title         network  imdb_rating  \\\n",
       "0              La Casa de Papel         Netflix          8.5   \n",
       "1                         Ozark         Netflix          8.4   \n",
       "2                    Tiger King         Netflix          7.8   \n",
       "3                     Westworld             HBO          8.7   \n",
       "4              The Walking Dead             AMC          8.2   \n",
       "..                          ...             ...          ...   \n",
       "242  X-Men: The Animated Series             FOX          8.4   \n",
       "243                    Futurama  Comedy Central          8.4   \n",
       "244                        Ezel         Netflix          8.4   \n",
       "245        American Crime Story              FX          8.4   \n",
       "246                 Delhi Crime         Netflix          8.4   \n",
       "\n",
       "     num_imdb_ratings  rt_critic_rating  rt_audience_rating  \\\n",
       "0              215007              91.0                82.0   \n",
       "1              136710              81.0                91.0   \n",
       "2               33700              86.0                86.0   \n",
       "3              388252              85.0                80.0   \n",
       "4              821809              81.0                78.0   \n",
       "..                ...               ...                 ...   \n",
       "242             36051              85.0                97.0   \n",
       "243            205817              95.0                96.0   \n",
       "244             23671             100.0                 NaN   \n",
       "245             74208              93.0                94.0   \n",
       "246              8273              92.0                93.0   \n",
       "\n",
       "                                                genres tv_rating  \\\n",
       "0           ['action', 'crime', 'mystery', 'thriller']     TV-MA   \n",
       "1                       ['crime', 'drama', 'thriller']     TV-MA   \n",
       "2                             ['documentary', 'crime']     TV-MA   \n",
       "3            ['drama', 'mystery', 'sci-fi', 'western']     TV-MA   \n",
       "4                      ['drama', 'horror', 'thriller']     TV-MA   \n",
       "..                                                 ...       ...   \n",
       "242  ['animation', 'action', 'family', 'sci-fi', 't...     TV-Y7   \n",
       "243                  ['animation', 'comedy', 'sci-fi']     TV-14   \n",
       "244                     ['crime', 'drama', 'thriller']     TV-14   \n",
       "245                    ['biography', 'crime', 'drama']     TV-MA   \n",
       "246                                 ['crime', 'drama']   unrated   \n",
       "\n",
       "     release_year  runtime_mins                                imdb_url  \n",
       "0          2017.0          70.0   https://www.imdb.com/title/tt6468322/  \n",
       "1          2017.0          60.0   https://www.imdb.com/title/tt5071412/  \n",
       "2          2020.0          31.0  https://www.imdb.com/title/tt11823076/  \n",
       "3          2016.0          62.0   https://www.imdb.com/title/tt0475784/  \n",
       "4          2010.0          44.0   https://www.imdb.com/title/tt1520211/  \n",
       "..            ...           ...                                     ...  \n",
       "242        1992.0          23.0   https://www.imdb.com/title/tt0103584/  \n",
       "243        1999.0          22.0   https://www.imdb.com/title/tt0149460/  \n",
       "244        2009.0          90.0   https://www.imdb.com/title/tt1534360/  \n",
       "245        2016.0          42.0   https://www.imdb.com/title/tt2788432/  \n",
       "246        2019.0          50.0   https://www.imdb.com/title/tt9398466/  \n",
       "\n",
       "[247 rows x 11 columns]"
      ]
     },
     "execution_count": 19,
     "metadata": {},
     "output_type": "execute_result"
    }
   ],
   "source": [
    "# Take a peek\n",
    "df"
   ]
  },
  {
   "cell_type": "markdown",
   "metadata": {},
   "source": [
    "Looks like we have some floats where we could have integers, and we need to count genres, rather than work with lists, or in this case strings of lists."
   ]
  },
  {
   "cell_type": "code",
   "execution_count": 20,
   "metadata": {},
   "outputs": [
    {
     "data": {
      "text/plain": [
       "\"['crime', 'drama', 'thriller']\""
      ]
     },
     "execution_count": 20,
     "metadata": {},
     "output_type": "execute_result"
    }
   ],
   "source": [
    "df.iloc[1]['genres']"
   ]
  },
  {
   "cell_type": "code",
   "execution_count": 21,
   "metadata": {},
   "outputs": [
    {
     "name": "stdout",
     "output_type": "stream",
     "text": [
      "<class 'pandas.core.frame.DataFrame'>\n",
      "Int64Index: 247 entries, 0 to 246\n",
      "Data columns (total 11 columns):\n",
      " #   Column              Non-Null Count  Dtype  \n",
      "---  ------              --------------  -----  \n",
      " 0   title               247 non-null    object \n",
      " 1   network             247 non-null    object \n",
      " 2   imdb_rating         247 non-null    float64\n",
      " 3   num_imdb_ratings    247 non-null    int64  \n",
      " 4   rt_critic_rating    247 non-null    float64\n",
      " 5   rt_audience_rating  194 non-null    float64\n",
      " 6   genres              247 non-null    object \n",
      " 7   tv_rating           247 non-null    object \n",
      " 8   release_year        247 non-null    float64\n",
      " 9   runtime_mins        247 non-null    float64\n",
      " 10  imdb_url            247 non-null    object \n",
      "dtypes: float64(5), int64(1), object(5)\n",
      "memory usage: 23.2+ KB\n"
     ]
    }
   ],
   "source": [
    "# Check for datatypes and null values\n",
    "df.info()"
   ]
  },
  {
   "cell_type": "code",
   "execution_count": 22,
   "metadata": {},
   "outputs": [
    {
     "name": "stdout",
     "output_type": "stream",
     "text": [
      "<class 'pandas.core.frame.DataFrame'>\n",
      "Int64Index: 247 entries, 0 to 246\n",
      "Data columns (total 10 columns):\n",
      " #   Column            Non-Null Count  Dtype  \n",
      "---  ------            --------------  -----  \n",
      " 0   title             247 non-null    object \n",
      " 1   network           247 non-null    object \n",
      " 2   imdb_rating       247 non-null    float64\n",
      " 3   num_imdb_ratings  247 non-null    int64  \n",
      " 4   rt_critic_rating  247 non-null    float64\n",
      " 5   genres            247 non-null    object \n",
      " 6   tv_rating         247 non-null    object \n",
      " 7   release_year      247 non-null    float64\n",
      " 8   runtime_mins      247 non-null    float64\n",
      " 9   imdb_url          247 non-null    object \n",
      "dtypes: float64(4), int64(1), object(5)\n",
      "memory usage: 21.2+ KB\n"
     ]
    }
   ],
   "source": [
    "# Drop column with null values, knowing we can grab it later if necessary\n",
    "df = df.dropna(axis=1)\n",
    "df.info()"
   ]
  },
  {
   "cell_type": "code",
   "execution_count": 23,
   "metadata": {},
   "outputs": [
    {
     "name": "stdout",
     "output_type": "stream",
     "text": [
      "<class 'pandas.core.frame.DataFrame'>\n",
      "Int64Index: 247 entries, 0 to 246\n",
      "Data columns (total 10 columns):\n",
      " #   Column            Non-Null Count  Dtype  \n",
      "---  ------            --------------  -----  \n",
      " 0   title             247 non-null    object \n",
      " 1   network           247 non-null    object \n",
      " 2   imdb_rating       247 non-null    float64\n",
      " 3   num_imdb_ratings  247 non-null    int64  \n",
      " 4   rt_critic_rating  247 non-null    int64  \n",
      " 5   genres            247 non-null    object \n",
      " 6   tv_rating         247 non-null    object \n",
      " 7   release_year      247 non-null    int64  \n",
      " 8   runtime_mins      247 non-null    int64  \n",
      " 9   imdb_url          247 non-null    object \n",
      "dtypes: float64(1), int64(4), object(5)\n",
      "memory usage: 21.2+ KB\n"
     ]
    },
    {
     "name": "stderr",
     "output_type": "stream",
     "text": [
      "/opt/anaconda3/envs/learn-env/lib/python3.6/site-packages/pandas/core/frame.py:2963: SettingWithCopyWarning: \n",
      "A value is trying to be set on a copy of a slice from a DataFrame.\n",
      "Try using .loc[row_indexer,col_indexer] = value instead\n",
      "\n",
      "See the caveats in the documentation: https://pandas.pydata.org/pandas-docs/stable/user_guide/indexing.html#returning-a-view-versus-a-copy\n",
      "  self[k1] = value[k2]\n"
     ]
    }
   ],
   "source": [
    "# Change dtypes for columns we want in int64\n",
    "df[['rt_critic_rating', 'release_year', 'runtime_mins']] = df[\n",
    "                                                ['rt_critic_rating', 'release_year', 'runtime_mins']\n",
    "                                                ].astype('int64')\n",
    "df.info()"
   ]
  },
  {
   "cell_type": "code",
   "execution_count": 24,
   "metadata": {},
   "outputs": [
    {
     "name": "stderr",
     "output_type": "stream",
     "text": [
      "/opt/anaconda3/envs/learn-env/lib/python3.6/site-packages/ipykernel_launcher.py:2: SettingWithCopyWarning: \n",
      "A value is trying to be set on a copy of a slice from a DataFrame.\n",
      "Try using .loc[row_indexer,col_indexer] = value instead\n",
      "\n",
      "See the caveats in the documentation: https://pandas.pydata.org/pandas-docs/stable/user_guide/indexing.html#returning-a-view-versus-a-copy\n",
      "  \n"
     ]
    },
    {
     "data": {
      "text/plain": [
       "['crime', 'drama', 'thriller']"
      ]
     },
     "execution_count": 24,
     "metadata": {},
     "output_type": "execute_result"
    }
   ],
   "source": [
    "# De-stringify the genres list scraped from IMDB\n",
    "df['genres'] = df.genres.apply(lambda x: ast.literal_eval(x))\n",
    "df.iloc[1]['genres']"
   ]
  },
  {
   "cell_type": "code",
   "execution_count": 25,
   "metadata": {},
   "outputs": [
    {
     "data": {
      "text/html": [
       "<div>\n",
       "<style scoped>\n",
       "    .dataframe tbody tr th:only-of-type {\n",
       "        vertical-align: middle;\n",
       "    }\n",
       "\n",
       "    .dataframe tbody tr th {\n",
       "        vertical-align: top;\n",
       "    }\n",
       "\n",
       "    .dataframe thead th {\n",
       "        text-align: right;\n",
       "    }\n",
       "</style>\n",
       "<table border=\"1\" class=\"dataframe\">\n",
       "  <thead>\n",
       "    <tr style=\"text-align: right;\">\n",
       "      <th></th>\n",
       "      <th>action</th>\n",
       "      <th>adventure</th>\n",
       "      <th>animation</th>\n",
       "      <th>biography</th>\n",
       "      <th>comedy</th>\n",
       "      <th>crime</th>\n",
       "      <th>documentary</th>\n",
       "      <th>drama</th>\n",
       "      <th>family</th>\n",
       "      <th>fantasy</th>\n",
       "      <th>...</th>\n",
       "      <th>news</th>\n",
       "      <th>reality-tv</th>\n",
       "      <th>romance</th>\n",
       "      <th>sci-fi</th>\n",
       "      <th>short</th>\n",
       "      <th>sport</th>\n",
       "      <th>talk-show</th>\n",
       "      <th>thriller</th>\n",
       "      <th>war</th>\n",
       "      <th>western</th>\n",
       "    </tr>\n",
       "  </thead>\n",
       "  <tbody>\n",
       "    <tr>\n",
       "      <th>0</th>\n",
       "      <td>1</td>\n",
       "      <td>0</td>\n",
       "      <td>0</td>\n",
       "      <td>0</td>\n",
       "      <td>0</td>\n",
       "      <td>1</td>\n",
       "      <td>0</td>\n",
       "      <td>0</td>\n",
       "      <td>0</td>\n",
       "      <td>0</td>\n",
       "      <td>...</td>\n",
       "      <td>0</td>\n",
       "      <td>0</td>\n",
       "      <td>0</td>\n",
       "      <td>0</td>\n",
       "      <td>0</td>\n",
       "      <td>0</td>\n",
       "      <td>0</td>\n",
       "      <td>1</td>\n",
       "      <td>0</td>\n",
       "      <td>0</td>\n",
       "    </tr>\n",
       "    <tr>\n",
       "      <th>1</th>\n",
       "      <td>0</td>\n",
       "      <td>0</td>\n",
       "      <td>0</td>\n",
       "      <td>0</td>\n",
       "      <td>0</td>\n",
       "      <td>1</td>\n",
       "      <td>0</td>\n",
       "      <td>1</td>\n",
       "      <td>0</td>\n",
       "      <td>0</td>\n",
       "      <td>...</td>\n",
       "      <td>0</td>\n",
       "      <td>0</td>\n",
       "      <td>0</td>\n",
       "      <td>0</td>\n",
       "      <td>0</td>\n",
       "      <td>0</td>\n",
       "      <td>0</td>\n",
       "      <td>1</td>\n",
       "      <td>0</td>\n",
       "      <td>0</td>\n",
       "    </tr>\n",
       "    <tr>\n",
       "      <th>2</th>\n",
       "      <td>0</td>\n",
       "      <td>0</td>\n",
       "      <td>0</td>\n",
       "      <td>0</td>\n",
       "      <td>0</td>\n",
       "      <td>1</td>\n",
       "      <td>1</td>\n",
       "      <td>0</td>\n",
       "      <td>0</td>\n",
       "      <td>0</td>\n",
       "      <td>...</td>\n",
       "      <td>0</td>\n",
       "      <td>0</td>\n",
       "      <td>0</td>\n",
       "      <td>0</td>\n",
       "      <td>0</td>\n",
       "      <td>0</td>\n",
       "      <td>0</td>\n",
       "      <td>0</td>\n",
       "      <td>0</td>\n",
       "      <td>0</td>\n",
       "    </tr>\n",
       "    <tr>\n",
       "      <th>3</th>\n",
       "      <td>0</td>\n",
       "      <td>0</td>\n",
       "      <td>0</td>\n",
       "      <td>0</td>\n",
       "      <td>0</td>\n",
       "      <td>0</td>\n",
       "      <td>0</td>\n",
       "      <td>1</td>\n",
       "      <td>0</td>\n",
       "      <td>0</td>\n",
       "      <td>...</td>\n",
       "      <td>0</td>\n",
       "      <td>0</td>\n",
       "      <td>0</td>\n",
       "      <td>1</td>\n",
       "      <td>0</td>\n",
       "      <td>0</td>\n",
       "      <td>0</td>\n",
       "      <td>0</td>\n",
       "      <td>0</td>\n",
       "      <td>1</td>\n",
       "    </tr>\n",
       "    <tr>\n",
       "      <th>4</th>\n",
       "      <td>0</td>\n",
       "      <td>0</td>\n",
       "      <td>0</td>\n",
       "      <td>0</td>\n",
       "      <td>0</td>\n",
       "      <td>0</td>\n",
       "      <td>0</td>\n",
       "      <td>1</td>\n",
       "      <td>0</td>\n",
       "      <td>0</td>\n",
       "      <td>...</td>\n",
       "      <td>0</td>\n",
       "      <td>0</td>\n",
       "      <td>0</td>\n",
       "      <td>0</td>\n",
       "      <td>0</td>\n",
       "      <td>0</td>\n",
       "      <td>0</td>\n",
       "      <td>1</td>\n",
       "      <td>0</td>\n",
       "      <td>0</td>\n",
       "    </tr>\n",
       "    <tr>\n",
       "      <th>...</th>\n",
       "      <td>...</td>\n",
       "      <td>...</td>\n",
       "      <td>...</td>\n",
       "      <td>...</td>\n",
       "      <td>...</td>\n",
       "      <td>...</td>\n",
       "      <td>...</td>\n",
       "      <td>...</td>\n",
       "      <td>...</td>\n",
       "      <td>...</td>\n",
       "      <td>...</td>\n",
       "      <td>...</td>\n",
       "      <td>...</td>\n",
       "      <td>...</td>\n",
       "      <td>...</td>\n",
       "      <td>...</td>\n",
       "      <td>...</td>\n",
       "      <td>...</td>\n",
       "      <td>...</td>\n",
       "      <td>...</td>\n",
       "      <td>...</td>\n",
       "    </tr>\n",
       "    <tr>\n",
       "      <th>242</th>\n",
       "      <td>1</td>\n",
       "      <td>0</td>\n",
       "      <td>1</td>\n",
       "      <td>0</td>\n",
       "      <td>0</td>\n",
       "      <td>0</td>\n",
       "      <td>0</td>\n",
       "      <td>0</td>\n",
       "      <td>1</td>\n",
       "      <td>0</td>\n",
       "      <td>...</td>\n",
       "      <td>0</td>\n",
       "      <td>0</td>\n",
       "      <td>0</td>\n",
       "      <td>1</td>\n",
       "      <td>0</td>\n",
       "      <td>0</td>\n",
       "      <td>0</td>\n",
       "      <td>1</td>\n",
       "      <td>0</td>\n",
       "      <td>0</td>\n",
       "    </tr>\n",
       "    <tr>\n",
       "      <th>243</th>\n",
       "      <td>0</td>\n",
       "      <td>0</td>\n",
       "      <td>1</td>\n",
       "      <td>0</td>\n",
       "      <td>1</td>\n",
       "      <td>0</td>\n",
       "      <td>0</td>\n",
       "      <td>0</td>\n",
       "      <td>0</td>\n",
       "      <td>0</td>\n",
       "      <td>...</td>\n",
       "      <td>0</td>\n",
       "      <td>0</td>\n",
       "      <td>0</td>\n",
       "      <td>1</td>\n",
       "      <td>0</td>\n",
       "      <td>0</td>\n",
       "      <td>0</td>\n",
       "      <td>0</td>\n",
       "      <td>0</td>\n",
       "      <td>0</td>\n",
       "    </tr>\n",
       "    <tr>\n",
       "      <th>244</th>\n",
       "      <td>0</td>\n",
       "      <td>0</td>\n",
       "      <td>0</td>\n",
       "      <td>0</td>\n",
       "      <td>0</td>\n",
       "      <td>1</td>\n",
       "      <td>0</td>\n",
       "      <td>1</td>\n",
       "      <td>0</td>\n",
       "      <td>0</td>\n",
       "      <td>...</td>\n",
       "      <td>0</td>\n",
       "      <td>0</td>\n",
       "      <td>0</td>\n",
       "      <td>0</td>\n",
       "      <td>0</td>\n",
       "      <td>0</td>\n",
       "      <td>0</td>\n",
       "      <td>1</td>\n",
       "      <td>0</td>\n",
       "      <td>0</td>\n",
       "    </tr>\n",
       "    <tr>\n",
       "      <th>245</th>\n",
       "      <td>0</td>\n",
       "      <td>0</td>\n",
       "      <td>0</td>\n",
       "      <td>1</td>\n",
       "      <td>0</td>\n",
       "      <td>1</td>\n",
       "      <td>0</td>\n",
       "      <td>1</td>\n",
       "      <td>0</td>\n",
       "      <td>0</td>\n",
       "      <td>...</td>\n",
       "      <td>0</td>\n",
       "      <td>0</td>\n",
       "      <td>0</td>\n",
       "      <td>0</td>\n",
       "      <td>0</td>\n",
       "      <td>0</td>\n",
       "      <td>0</td>\n",
       "      <td>0</td>\n",
       "      <td>0</td>\n",
       "      <td>0</td>\n",
       "    </tr>\n",
       "    <tr>\n",
       "      <th>246</th>\n",
       "      <td>0</td>\n",
       "      <td>0</td>\n",
       "      <td>0</td>\n",
       "      <td>0</td>\n",
       "      <td>0</td>\n",
       "      <td>1</td>\n",
       "      <td>0</td>\n",
       "      <td>1</td>\n",
       "      <td>0</td>\n",
       "      <td>0</td>\n",
       "      <td>...</td>\n",
       "      <td>0</td>\n",
       "      <td>0</td>\n",
       "      <td>0</td>\n",
       "      <td>0</td>\n",
       "      <td>0</td>\n",
       "      <td>0</td>\n",
       "      <td>0</td>\n",
       "      <td>0</td>\n",
       "      <td>0</td>\n",
       "      <td>0</td>\n",
       "    </tr>\n",
       "  </tbody>\n",
       "</table>\n",
       "<p>247 rows × 26 columns</p>\n",
       "</div>"
      ],
      "text/plain": [
       "     action  adventure  animation  biography  comedy  crime  documentary  \\\n",
       "0         1          0          0          0       0      1            0   \n",
       "1         0          0          0          0       0      1            0   \n",
       "2         0          0          0          0       0      1            1   \n",
       "3         0          0          0          0       0      0            0   \n",
       "4         0          0          0          0       0      0            0   \n",
       "..      ...        ...        ...        ...     ...    ...          ...   \n",
       "242       1          0          1          0       0      0            0   \n",
       "243       0          0          1          0       1      0            0   \n",
       "244       0          0          0          0       0      1            0   \n",
       "245       0          0          0          1       0      1            0   \n",
       "246       0          0          0          0       0      1            0   \n",
       "\n",
       "     drama  family  fantasy  ...  news  reality-tv  romance  sci-fi  short  \\\n",
       "0        0       0        0  ...     0           0        0       0      0   \n",
       "1        1       0        0  ...     0           0        0       0      0   \n",
       "2        0       0        0  ...     0           0        0       0      0   \n",
       "3        1       0        0  ...     0           0        0       1      0   \n",
       "4        1       0        0  ...     0           0        0       0      0   \n",
       "..     ...     ...      ...  ...   ...         ...      ...     ...    ...   \n",
       "242      0       1        0  ...     0           0        0       1      0   \n",
       "243      0       0        0  ...     0           0        0       1      0   \n",
       "244      1       0        0  ...     0           0        0       0      0   \n",
       "245      1       0        0  ...     0           0        0       0      0   \n",
       "246      1       0        0  ...     0           0        0       0      0   \n",
       "\n",
       "     sport  talk-show  thriller  war  western  \n",
       "0        0          0         1    0        0  \n",
       "1        0          0         1    0        0  \n",
       "2        0          0         0    0        0  \n",
       "3        0          0         0    0        1  \n",
       "4        0          0         1    0        0  \n",
       "..     ...        ...       ...  ...      ...  \n",
       "242      0          0         1    0        0  \n",
       "243      0          0         0    0        0  \n",
       "244      0          0         1    0        0  \n",
       "245      0          0         0    0        0  \n",
       "246      0          0         0    0        0  \n",
       "\n",
       "[247 rows x 26 columns]"
      ]
     },
     "execution_count": 25,
     "metadata": {},
     "output_type": "execute_result"
    }
   ],
   "source": [
    "# Turn the genres column into a series that we can stack and\n",
    "# make a dataframe of dummy genre colums to get a count of each genre\n",
    "df_genres = pd.get_dummies(df['genres'].apply(pd.Series).stack()).sum(level=0)\n",
    "df_genres"
   ]
  },
  {
   "cell_type": "code",
   "execution_count": 26,
   "metadata": {},
   "outputs": [
    {
     "data": {
      "text/html": [
       "<div>\n",
       "<style scoped>\n",
       "    .dataframe tbody tr th:only-of-type {\n",
       "        vertical-align: middle;\n",
       "    }\n",
       "\n",
       "    .dataframe tbody tr th {\n",
       "        vertical-align: top;\n",
       "    }\n",
       "\n",
       "    .dataframe thead th {\n",
       "        text-align: right;\n",
       "    }\n",
       "</style>\n",
       "<table border=\"1\" class=\"dataframe\">\n",
       "  <thead>\n",
       "    <tr style=\"text-align: right;\">\n",
       "      <th></th>\n",
       "      <th>title</th>\n",
       "      <th>network</th>\n",
       "      <th>imdb_rating</th>\n",
       "      <th>num_imdb_ratings</th>\n",
       "      <th>rt_critic_rating</th>\n",
       "      <th>genres</th>\n",
       "      <th>tv_rating</th>\n",
       "      <th>release_year</th>\n",
       "      <th>runtime_mins</th>\n",
       "      <th>imdb_url</th>\n",
       "      <th>...</th>\n",
       "      <th>news</th>\n",
       "      <th>reality-tv</th>\n",
       "      <th>romance</th>\n",
       "      <th>sci-fi</th>\n",
       "      <th>short</th>\n",
       "      <th>sport</th>\n",
       "      <th>talk-show</th>\n",
       "      <th>thriller</th>\n",
       "      <th>war</th>\n",
       "      <th>western</th>\n",
       "    </tr>\n",
       "  </thead>\n",
       "  <tbody>\n",
       "    <tr>\n",
       "      <th>0</th>\n",
       "      <td>La Casa de Papel</td>\n",
       "      <td>Netflix</td>\n",
       "      <td>8.5</td>\n",
       "      <td>215007</td>\n",
       "      <td>91</td>\n",
       "      <td>[action, crime, mystery, thriller]</td>\n",
       "      <td>TV-MA</td>\n",
       "      <td>2017</td>\n",
       "      <td>70</td>\n",
       "      <td>https://www.imdb.com/title/tt6468322/</td>\n",
       "      <td>...</td>\n",
       "      <td>0</td>\n",
       "      <td>0</td>\n",
       "      <td>0</td>\n",
       "      <td>0</td>\n",
       "      <td>0</td>\n",
       "      <td>0</td>\n",
       "      <td>0</td>\n",
       "      <td>1</td>\n",
       "      <td>0</td>\n",
       "      <td>0</td>\n",
       "    </tr>\n",
       "    <tr>\n",
       "      <th>1</th>\n",
       "      <td>Ozark</td>\n",
       "      <td>Netflix</td>\n",
       "      <td>8.4</td>\n",
       "      <td>136710</td>\n",
       "      <td>81</td>\n",
       "      <td>[crime, drama, thriller]</td>\n",
       "      <td>TV-MA</td>\n",
       "      <td>2017</td>\n",
       "      <td>60</td>\n",
       "      <td>https://www.imdb.com/title/tt5071412/</td>\n",
       "      <td>...</td>\n",
       "      <td>0</td>\n",
       "      <td>0</td>\n",
       "      <td>0</td>\n",
       "      <td>0</td>\n",
       "      <td>0</td>\n",
       "      <td>0</td>\n",
       "      <td>0</td>\n",
       "      <td>1</td>\n",
       "      <td>0</td>\n",
       "      <td>0</td>\n",
       "    </tr>\n",
       "    <tr>\n",
       "      <th>2</th>\n",
       "      <td>Tiger King</td>\n",
       "      <td>Netflix</td>\n",
       "      <td>7.8</td>\n",
       "      <td>33700</td>\n",
       "      <td>86</td>\n",
       "      <td>[documentary, crime]</td>\n",
       "      <td>TV-MA</td>\n",
       "      <td>2020</td>\n",
       "      <td>31</td>\n",
       "      <td>https://www.imdb.com/title/tt11823076/</td>\n",
       "      <td>...</td>\n",
       "      <td>0</td>\n",
       "      <td>0</td>\n",
       "      <td>0</td>\n",
       "      <td>0</td>\n",
       "      <td>0</td>\n",
       "      <td>0</td>\n",
       "      <td>0</td>\n",
       "      <td>0</td>\n",
       "      <td>0</td>\n",
       "      <td>0</td>\n",
       "    </tr>\n",
       "    <tr>\n",
       "      <th>3</th>\n",
       "      <td>Westworld</td>\n",
       "      <td>HBO</td>\n",
       "      <td>8.7</td>\n",
       "      <td>388252</td>\n",
       "      <td>85</td>\n",
       "      <td>[drama, mystery, sci-fi, western]</td>\n",
       "      <td>TV-MA</td>\n",
       "      <td>2016</td>\n",
       "      <td>62</td>\n",
       "      <td>https://www.imdb.com/title/tt0475784/</td>\n",
       "      <td>...</td>\n",
       "      <td>0</td>\n",
       "      <td>0</td>\n",
       "      <td>0</td>\n",
       "      <td>1</td>\n",
       "      <td>0</td>\n",
       "      <td>0</td>\n",
       "      <td>0</td>\n",
       "      <td>0</td>\n",
       "      <td>0</td>\n",
       "      <td>1</td>\n",
       "    </tr>\n",
       "    <tr>\n",
       "      <th>4</th>\n",
       "      <td>The Walking Dead</td>\n",
       "      <td>AMC</td>\n",
       "      <td>8.2</td>\n",
       "      <td>821809</td>\n",
       "      <td>81</td>\n",
       "      <td>[drama, horror, thriller]</td>\n",
       "      <td>TV-MA</td>\n",
       "      <td>2010</td>\n",
       "      <td>44</td>\n",
       "      <td>https://www.imdb.com/title/tt1520211/</td>\n",
       "      <td>...</td>\n",
       "      <td>0</td>\n",
       "      <td>0</td>\n",
       "      <td>0</td>\n",
       "      <td>0</td>\n",
       "      <td>0</td>\n",
       "      <td>0</td>\n",
       "      <td>0</td>\n",
       "      <td>1</td>\n",
       "      <td>0</td>\n",
       "      <td>0</td>\n",
       "    </tr>\n",
       "  </tbody>\n",
       "</table>\n",
       "<p>5 rows × 36 columns</p>\n",
       "</div>"
      ],
      "text/plain": [
       "              title  network  imdb_rating  num_imdb_ratings  rt_critic_rating  \\\n",
       "0  La Casa de Papel  Netflix          8.5            215007                91   \n",
       "1             Ozark  Netflix          8.4            136710                81   \n",
       "2        Tiger King  Netflix          7.8             33700                86   \n",
       "3         Westworld      HBO          8.7            388252                85   \n",
       "4  The Walking Dead      AMC          8.2            821809                81   \n",
       "\n",
       "                               genres tv_rating  release_year  runtime_mins  \\\n",
       "0  [action, crime, mystery, thriller]     TV-MA          2017            70   \n",
       "1            [crime, drama, thriller]     TV-MA          2017            60   \n",
       "2                [documentary, crime]     TV-MA          2020            31   \n",
       "3   [drama, mystery, sci-fi, western]     TV-MA          2016            62   \n",
       "4           [drama, horror, thriller]     TV-MA          2010            44   \n",
       "\n",
       "                                 imdb_url  ...  news  reality-tv  romance  \\\n",
       "0   https://www.imdb.com/title/tt6468322/  ...     0           0        0   \n",
       "1   https://www.imdb.com/title/tt5071412/  ...     0           0        0   \n",
       "2  https://www.imdb.com/title/tt11823076/  ...     0           0        0   \n",
       "3   https://www.imdb.com/title/tt0475784/  ...     0           0        0   \n",
       "4   https://www.imdb.com/title/tt1520211/  ...     0           0        0   \n",
       "\n",
       "   sci-fi  short  sport  talk-show  thriller  war  western  \n",
       "0       0      0      0          0         1    0        0  \n",
       "1       0      0      0          0         1    0        0  \n",
       "2       0      0      0          0         0    0        0  \n",
       "3       1      0      0          0         0    0        1  \n",
       "4       0      0      0          0         1    0        0  \n",
       "\n",
       "[5 rows x 36 columns]"
      ]
     },
     "execution_count": 26,
     "metadata": {},
     "output_type": "execute_result"
    }
   ],
   "source": [
    "# Merge our dummies dataframe onto the original dataframe\n",
    "df = pd.concat([df, df_genres], axis=1)\n",
    "# Take a peek\n",
    "df.head()"
   ]
  },
  {
   "cell_type": "code",
   "execution_count": 27,
   "metadata": {},
   "outputs": [],
   "source": [
    "# Remove outliers for the numerical data we'll be focusing on\n",
    "\n",
    "# Calculate the z-scores of the numerical data\n",
    "z_scores = stats.zscore(df[['imdb_rating', 'num_imdb_ratings', 'rt_critic_rating']])\n",
    "# Turn those scores into all positive values, so we can easily separate\n",
    "abs_z_scores = np.abs(z_scores)\n",
    "# Filter out outliers (more than 3 standard deviations from the mean)\n",
    "filtered_entries = (abs_z_scores < 3).all(axis=1)\n",
    "# Update the dataframe\n",
    "df = df[filtered_entries]"
   ]
  },
  {
   "cell_type": "code",
   "execution_count": 28,
   "metadata": {},
   "outputs": [
    {
     "data": {
      "text/plain": [
       "(235, 36)"
      ]
     },
     "execution_count": 28,
     "metadata": {},
     "output_type": "execute_result"
    }
   ],
   "source": [
    "# See that 12 rows were eliminated\n",
    "df.shape"
   ]
  },
  {
   "cell_type": "code",
   "execution_count": 29,
   "metadata": {},
   "outputs": [],
   "source": [
    "# Save a copy for good measure :P\n",
    "df.to_csv('top_television_data_updated.csv')"
   ]
  },
  {
   "cell_type": "code",
   "execution_count": 30,
   "metadata": {},
   "outputs": [
    {
     "data": {
      "text/html": [
       "<div>\n",
       "<style scoped>\n",
       "    .dataframe tbody tr th:only-of-type {\n",
       "        vertical-align: middle;\n",
       "    }\n",
       "\n",
       "    .dataframe tbody tr th {\n",
       "        vertical-align: top;\n",
       "    }\n",
       "\n",
       "    .dataframe thead th {\n",
       "        text-align: right;\n",
       "    }\n",
       "</style>\n",
       "<table border=\"1\" class=\"dataframe\">\n",
       "  <thead>\n",
       "    <tr style=\"text-align: right;\">\n",
       "      <th></th>\n",
       "      <th>title</th>\n",
       "      <th>network</th>\n",
       "      <th>imdb_rating</th>\n",
       "      <th>num_imdb_ratings</th>\n",
       "      <th>rt_critic_rating</th>\n",
       "      <th>genres</th>\n",
       "      <th>tv_rating</th>\n",
       "      <th>release_year</th>\n",
       "      <th>runtime_mins</th>\n",
       "      <th>imdb_url</th>\n",
       "      <th>...</th>\n",
       "      <th>news</th>\n",
       "      <th>reality-tv</th>\n",
       "      <th>romance</th>\n",
       "      <th>sci-fi</th>\n",
       "      <th>short</th>\n",
       "      <th>sport</th>\n",
       "      <th>talk-show</th>\n",
       "      <th>thriller</th>\n",
       "      <th>war</th>\n",
       "      <th>western</th>\n",
       "    </tr>\n",
       "  </thead>\n",
       "  <tbody>\n",
       "    <tr>\n",
       "      <th>0</th>\n",
       "      <td>La Casa de Papel</td>\n",
       "      <td>Netflix</td>\n",
       "      <td>8.5</td>\n",
       "      <td>215007</td>\n",
       "      <td>91</td>\n",
       "      <td>[action, crime, mystery, thriller]</td>\n",
       "      <td>TV-MA</td>\n",
       "      <td>2017</td>\n",
       "      <td>70</td>\n",
       "      <td>https://www.imdb.com/title/tt6468322/</td>\n",
       "      <td>...</td>\n",
       "      <td>0</td>\n",
       "      <td>0</td>\n",
       "      <td>0</td>\n",
       "      <td>0</td>\n",
       "      <td>0</td>\n",
       "      <td>0</td>\n",
       "      <td>0</td>\n",
       "      <td>1</td>\n",
       "      <td>0</td>\n",
       "      <td>0</td>\n",
       "    </tr>\n",
       "    <tr>\n",
       "      <th>1</th>\n",
       "      <td>Ozark</td>\n",
       "      <td>Netflix</td>\n",
       "      <td>8.4</td>\n",
       "      <td>136710</td>\n",
       "      <td>81</td>\n",
       "      <td>[crime, drama, thriller]</td>\n",
       "      <td>TV-MA</td>\n",
       "      <td>2017</td>\n",
       "      <td>60</td>\n",
       "      <td>https://www.imdb.com/title/tt5071412/</td>\n",
       "      <td>...</td>\n",
       "      <td>0</td>\n",
       "      <td>0</td>\n",
       "      <td>0</td>\n",
       "      <td>0</td>\n",
       "      <td>0</td>\n",
       "      <td>0</td>\n",
       "      <td>0</td>\n",
       "      <td>1</td>\n",
       "      <td>0</td>\n",
       "      <td>0</td>\n",
       "    </tr>\n",
       "    <tr>\n",
       "      <th>2</th>\n",
       "      <td>Tiger King</td>\n",
       "      <td>Netflix</td>\n",
       "      <td>7.8</td>\n",
       "      <td>33700</td>\n",
       "      <td>86</td>\n",
       "      <td>[documentary, crime]</td>\n",
       "      <td>TV-MA</td>\n",
       "      <td>2020</td>\n",
       "      <td>31</td>\n",
       "      <td>https://www.imdb.com/title/tt11823076/</td>\n",
       "      <td>...</td>\n",
       "      <td>0</td>\n",
       "      <td>0</td>\n",
       "      <td>0</td>\n",
       "      <td>0</td>\n",
       "      <td>0</td>\n",
       "      <td>0</td>\n",
       "      <td>0</td>\n",
       "      <td>0</td>\n",
       "      <td>0</td>\n",
       "      <td>0</td>\n",
       "    </tr>\n",
       "    <tr>\n",
       "      <th>3</th>\n",
       "      <td>Westworld</td>\n",
       "      <td>HBO</td>\n",
       "      <td>8.7</td>\n",
       "      <td>388252</td>\n",
       "      <td>85</td>\n",
       "      <td>[drama, mystery, sci-fi, western]</td>\n",
       "      <td>TV-MA</td>\n",
       "      <td>2016</td>\n",
       "      <td>62</td>\n",
       "      <td>https://www.imdb.com/title/tt0475784/</td>\n",
       "      <td>...</td>\n",
       "      <td>0</td>\n",
       "      <td>0</td>\n",
       "      <td>0</td>\n",
       "      <td>1</td>\n",
       "      <td>0</td>\n",
       "      <td>0</td>\n",
       "      <td>0</td>\n",
       "      <td>0</td>\n",
       "      <td>0</td>\n",
       "      <td>1</td>\n",
       "    </tr>\n",
       "    <tr>\n",
       "      <th>6</th>\n",
       "      <td>Better Call Saul</td>\n",
       "      <td>AMC</td>\n",
       "      <td>8.7</td>\n",
       "      <td>280536</td>\n",
       "      <td>97</td>\n",
       "      <td>[crime, drama]</td>\n",
       "      <td>TV-MA</td>\n",
       "      <td>2015</td>\n",
       "      <td>46</td>\n",
       "      <td>https://www.imdb.com/title/tt3032476/</td>\n",
       "      <td>...</td>\n",
       "      <td>0</td>\n",
       "      <td>0</td>\n",
       "      <td>0</td>\n",
       "      <td>0</td>\n",
       "      <td>0</td>\n",
       "      <td>0</td>\n",
       "      <td>0</td>\n",
       "      <td>0</td>\n",
       "      <td>0</td>\n",
       "      <td>0</td>\n",
       "    </tr>\n",
       "  </tbody>\n",
       "</table>\n",
       "<p>5 rows × 36 columns</p>\n",
       "</div>"
      ],
      "text/plain": [
       "              title  network  imdb_rating  num_imdb_ratings  rt_critic_rating  \\\n",
       "0  La Casa de Papel  Netflix          8.5            215007                91   \n",
       "1             Ozark  Netflix          8.4            136710                81   \n",
       "2        Tiger King  Netflix          7.8             33700                86   \n",
       "3         Westworld      HBO          8.7            388252                85   \n",
       "6  Better Call Saul      AMC          8.7            280536                97   \n",
       "\n",
       "                               genres tv_rating  release_year  runtime_mins  \\\n",
       "0  [action, crime, mystery, thriller]     TV-MA          2017            70   \n",
       "1            [crime, drama, thriller]     TV-MA          2017            60   \n",
       "2                [documentary, crime]     TV-MA          2020            31   \n",
       "3   [drama, mystery, sci-fi, western]     TV-MA          2016            62   \n",
       "6                      [crime, drama]     TV-MA          2015            46   \n",
       "\n",
       "                                 imdb_url  ...  news  reality-tv  romance  \\\n",
       "0   https://www.imdb.com/title/tt6468322/  ...     0           0        0   \n",
       "1   https://www.imdb.com/title/tt5071412/  ...     0           0        0   \n",
       "2  https://www.imdb.com/title/tt11823076/  ...     0           0        0   \n",
       "3   https://www.imdb.com/title/tt0475784/  ...     0           0        0   \n",
       "6   https://www.imdb.com/title/tt3032476/  ...     0           0        0   \n",
       "\n",
       "   sci-fi  short  sport  talk-show  thriller  war  western  \n",
       "0       0      0      0          0         1    0        0  \n",
       "1       0      0      0          0         1    0        0  \n",
       "2       0      0      0          0         0    0        0  \n",
       "3       1      0      0          0         0    0        1  \n",
       "6       0      0      0          0         0    0        0  \n",
       "\n",
       "[5 rows x 36 columns]"
      ]
     },
     "execution_count": 30,
     "metadata": {},
     "output_type": "execute_result"
    }
   ],
   "source": [
    "# Set up a parameter to include only contemporary shows (released in the last decade). Sneakily save a copy for good measure :P\n",
    "df_contemp = df[df['release_year'] >= 2010]\n",
    "df_contemp.to_csv('top_contemporary_television_2010.csv')\n",
    "df_contemp.head()"
   ]
  },
  {
   "cell_type": "code",
   "execution_count": 31,
   "metadata": {},
   "outputs": [
    {
     "data": {
      "text/plain": [
       "Text(0.5, 1.0, 'RT Rating & IMDB Rating')"
      ]
     },
     "execution_count": 31,
     "metadata": {},
     "output_type": "execute_result"
    },
    {
     "data": {
      "image/png": "[encoded data removed]",
      "text/plain": [
       "<Figure size 1440x720 with 6 Axes>"
      ]
     },
     "metadata": {},
     "output_type": "display_data"
    }
   ],
   "source": [
    "# quick look at the distributions for our possible metrics of success and for any correlations\n",
    "fig, axs = plt.subplots(nrows=2, ncols=3, figsize=(20,10))\n",
    "axs[0,0].hist(df_contemp['rt_critic_rating'])\n",
    "axs[0,1].hist(df_contemp['imdb_rating'])\n",
    "axs[0,2].hist(df_contemp['num_imdb_ratings'])\n",
    "\n",
    "axs[0,0].set_title('RT Rating')\n",
    "axs[0,1].set_title('IMDB Rating')\n",
    "axs[0,2].set_title('# of Ratings')\n",
    "\n",
    "axs[1,0].scatter(df_contemp['rt_critic_rating'], df_contemp['num_imdb_ratings'])\n",
    "axs[1,1].scatter(df_contemp['imdb_rating'], df_contemp['num_imdb_ratings'])\n",
    "axs[1,2].scatter(df_contemp['rt_critic_rating'], df_contemp['imdb_rating'])\n",
    "\n",
    "axs[1,0].set_title('RT Rating & Popularity')\n",
    "axs[1,1].set_title('IMDB Rating & Popularity')\n",
    "axs[1,2].set_title('RT Rating & IMDB Rating')"
   ]
  },
  {
   "cell_type": "markdown",
   "metadata": {},
   "source": [
    "The scatterplots go in order of least correlation to most correlation, but surprisingly there isn't a strong relationship between rating and popularity.\n",
    "\n",
    "**Our metric of success is still unclear.** Let's see if grouping by genres gives us any more insight."
   ]
  },
  {
   "cell_type": "code",
   "execution_count": 32,
   "metadata": {},
   "outputs": [
    {
     "data": {
      "text/plain": [
       "Index(['title', 'network', 'imdb_rating', 'num_imdb_ratings',\n",
       "       'rt_critic_rating', 'genres', 'tv_rating', 'release_year',\n",
       "       'runtime_mins', 'imdb_url', 'action', 'adventure', 'animation',\n",
       "       'biography', 'comedy', 'crime', 'documentary', 'drama', 'family',\n",
       "       'fantasy', 'game-show', 'history', 'horror', 'music', 'musical',\n",
       "       'mystery', 'news', 'reality-tv', 'romance', 'sci-fi', 'short', 'sport',\n",
       "       'talk-show', 'thriller', 'war', 'western'],\n",
       "      dtype='object')"
      ]
     },
     "execution_count": 32,
     "metadata": {},
     "output_type": "execute_result"
    }
   ],
   "source": [
    "# Get a list of column names, so we can create a dataframe with just the genre data from the contemporary dataframe\n",
    "df_contemp.columns"
   ]
  },
  {
   "cell_type": "code",
   "execution_count": 33,
   "metadata": {},
   "outputs": [
    {
     "data": {
      "text/html": [
       "<div>\n",
       "<style scoped>\n",
       "    .dataframe tbody tr th:only-of-type {\n",
       "        vertical-align: middle;\n",
       "    }\n",
       "\n",
       "    .dataframe tbody tr th {\n",
       "        vertical-align: top;\n",
       "    }\n",
       "\n",
       "    .dataframe thead th {\n",
       "        text-align: right;\n",
       "    }\n",
       "</style>\n",
       "<table border=\"1\" class=\"dataframe\">\n",
       "  <thead>\n",
       "    <tr style=\"text-align: right;\">\n",
       "      <th></th>\n",
       "      <th>action</th>\n",
       "      <th>adventure</th>\n",
       "      <th>animation</th>\n",
       "      <th>biography</th>\n",
       "      <th>comedy</th>\n",
       "      <th>crime</th>\n",
       "      <th>documentary</th>\n",
       "      <th>drama</th>\n",
       "      <th>family</th>\n",
       "      <th>fantasy</th>\n",
       "      <th>...</th>\n",
       "      <th>news</th>\n",
       "      <th>reality-tv</th>\n",
       "      <th>romance</th>\n",
       "      <th>sci-fi</th>\n",
       "      <th>short</th>\n",
       "      <th>sport</th>\n",
       "      <th>talk-show</th>\n",
       "      <th>thriller</th>\n",
       "      <th>war</th>\n",
       "      <th>western</th>\n",
       "    </tr>\n",
       "  </thead>\n",
       "  <tbody>\n",
       "    <tr>\n",
       "      <th>0</th>\n",
       "      <td>1</td>\n",
       "      <td>0</td>\n",
       "      <td>0</td>\n",
       "      <td>0</td>\n",
       "      <td>0</td>\n",
       "      <td>1</td>\n",
       "      <td>0</td>\n",
       "      <td>0</td>\n",
       "      <td>0</td>\n",
       "      <td>0</td>\n",
       "      <td>...</td>\n",
       "      <td>0</td>\n",
       "      <td>0</td>\n",
       "      <td>0</td>\n",
       "      <td>0</td>\n",
       "      <td>0</td>\n",
       "      <td>0</td>\n",
       "      <td>0</td>\n",
       "      <td>1</td>\n",
       "      <td>0</td>\n",
       "      <td>0</td>\n",
       "    </tr>\n",
       "    <tr>\n",
       "      <th>1</th>\n",
       "      <td>0</td>\n",
       "      <td>0</td>\n",
       "      <td>0</td>\n",
       "      <td>0</td>\n",
       "      <td>0</td>\n",
       "      <td>1</td>\n",
       "      <td>0</td>\n",
       "      <td>1</td>\n",
       "      <td>0</td>\n",
       "      <td>0</td>\n",
       "      <td>...</td>\n",
       "      <td>0</td>\n",
       "      <td>0</td>\n",
       "      <td>0</td>\n",
       "      <td>0</td>\n",
       "      <td>0</td>\n",
       "      <td>0</td>\n",
       "      <td>0</td>\n",
       "      <td>1</td>\n",
       "      <td>0</td>\n",
       "      <td>0</td>\n",
       "    </tr>\n",
       "    <tr>\n",
       "      <th>2</th>\n",
       "      <td>0</td>\n",
       "      <td>0</td>\n",
       "      <td>0</td>\n",
       "      <td>0</td>\n",
       "      <td>0</td>\n",
       "      <td>1</td>\n",
       "      <td>1</td>\n",
       "      <td>0</td>\n",
       "      <td>0</td>\n",
       "      <td>0</td>\n",
       "      <td>...</td>\n",
       "      <td>0</td>\n",
       "      <td>0</td>\n",
       "      <td>0</td>\n",
       "      <td>0</td>\n",
       "      <td>0</td>\n",
       "      <td>0</td>\n",
       "      <td>0</td>\n",
       "      <td>0</td>\n",
       "      <td>0</td>\n",
       "      <td>0</td>\n",
       "    </tr>\n",
       "    <tr>\n",
       "      <th>3</th>\n",
       "      <td>0</td>\n",
       "      <td>0</td>\n",
       "      <td>0</td>\n",
       "      <td>0</td>\n",
       "      <td>0</td>\n",
       "      <td>0</td>\n",
       "      <td>0</td>\n",
       "      <td>1</td>\n",
       "      <td>0</td>\n",
       "      <td>0</td>\n",
       "      <td>...</td>\n",
       "      <td>0</td>\n",
       "      <td>0</td>\n",
       "      <td>0</td>\n",
       "      <td>1</td>\n",
       "      <td>0</td>\n",
       "      <td>0</td>\n",
       "      <td>0</td>\n",
       "      <td>0</td>\n",
       "      <td>0</td>\n",
       "      <td>1</td>\n",
       "    </tr>\n",
       "    <tr>\n",
       "      <th>6</th>\n",
       "      <td>0</td>\n",
       "      <td>0</td>\n",
       "      <td>0</td>\n",
       "      <td>0</td>\n",
       "      <td>0</td>\n",
       "      <td>1</td>\n",
       "      <td>0</td>\n",
       "      <td>1</td>\n",
       "      <td>0</td>\n",
       "      <td>0</td>\n",
       "      <td>...</td>\n",
       "      <td>0</td>\n",
       "      <td>0</td>\n",
       "      <td>0</td>\n",
       "      <td>0</td>\n",
       "      <td>0</td>\n",
       "      <td>0</td>\n",
       "      <td>0</td>\n",
       "      <td>0</td>\n",
       "      <td>0</td>\n",
       "      <td>0</td>\n",
       "    </tr>\n",
       "  </tbody>\n",
       "</table>\n",
       "<p>5 rows × 26 columns</p>\n",
       "</div>"
      ],
      "text/plain": [
       "   action  adventure  animation  biography  comedy  crime  documentary  drama  \\\n",
       "0       1          0          0          0       0      1            0      0   \n",
       "1       0          0          0          0       0      1            0      1   \n",
       "2       0          0          0          0       0      1            1      0   \n",
       "3       0          0          0          0       0      0            0      1   \n",
       "6       0          0          0          0       0      1            0      1   \n",
       "\n",
       "   family  fantasy  ...  news  reality-tv  romance  sci-fi  short  sport  \\\n",
       "0       0        0  ...     0           0        0       0      0      0   \n",
       "1       0        0  ...     0           0        0       0      0      0   \n",
       "2       0        0  ...     0           0        0       0      0      0   \n",
       "3       0        0  ...     0           0        0       1      0      0   \n",
       "6       0        0  ...     0           0        0       0      0      0   \n",
       "\n",
       "   talk-show  thriller  war  western  \n",
       "0          0         1    0        0  \n",
       "1          0         1    0        0  \n",
       "2          0         0    0        0  \n",
       "3          0         0    0        1  \n",
       "6          0         0    0        0  \n",
       "\n",
       "[5 rows x 26 columns]"
      ]
     },
     "execution_count": 33,
     "metadata": {},
     "output_type": "execute_result"
    }
   ],
   "source": [
    "# Create dataframe of contemporary genre data\n",
    "genres_contemp = df_contemp[\n",
    "    ['action', 'adventure', 'animation', 'biography', 'comedy', 'crime', 'documentary',\n",
    "     'drama', 'family', 'fantasy', 'game-show', 'history', 'horror', 'music', 'musical', \n",
    "     'mystery', 'news', 'reality-tv', 'romance', 'sci-fi', 'short', 'sport', 'talk-show',\n",
    "     'thriller', 'war', 'western']\n",
    "    ]\n",
    "genres_contemp.head()"
   ]
  },
  {
   "cell_type": "code",
   "execution_count": 34,
   "metadata": {},
   "outputs": [
    {
     "data": {
      "text/plain": [
       "action         31\n",
       "adventure      21\n",
       "animation      15\n",
       "biography       6\n",
       "comedy         35\n",
       "crime          47\n",
       "documentary    14\n",
       "drama          97\n",
       "family          4\n",
       "fantasy        20\n",
       "game-show       0\n",
       "history        10\n",
       "horror         11\n",
       "music           2\n",
       "musical         1\n",
       "mystery        32\n",
       "news            1\n",
       "reality-tv      2\n",
       "romance        10\n",
       "sci-fi         27\n",
       "short           1\n",
       "sport           3\n",
       "talk-show       3\n",
       "thriller       42\n",
       "war             3\n",
       "western         2\n",
       "dtype: int64"
      ]
     },
     "execution_count": 34,
     "metadata": {},
     "output_type": "execute_result"
    }
   ],
   "source": [
    "# Look at sums of shows within each genre\n",
    "genres_contemp.sum()"
   ]
  },
  {
   "cell_type": "code",
   "execution_count": 35,
   "metadata": {},
   "outputs": [
    {
     "data": {
      "text/plain": [
       "(136, 26)"
      ]
     },
     "execution_count": 35,
     "metadata": {},
     "output_type": "execute_result"
    }
   ],
   "source": [
    "# 136 shows over 26 genres (shows can have more than 1 genre)\n",
    "genres_contemp.shape"
   ]
  },
  {
   "cell_type": "code",
   "execution_count": 36,
   "metadata": {},
   "outputs": [],
   "source": [
    "# Eliminate genres with small samples\n",
    "genres_contemp = genres_contemp[genres_contemp.columns[genres_contemp.sum() >= 10]]"
   ]
  },
  {
   "cell_type": "code",
   "execution_count": 37,
   "metadata": {},
   "outputs": [
    {
     "data": {
      "text/plain": [
       "(136, 14)"
      ]
     },
     "execution_count": 37,
     "metadata": {},
     "output_type": "execute_result"
    }
   ],
   "source": [
    "# still all 136 shows, now over the 14 most common genres\n",
    "genres_contemp.shape"
   ]
  },
  {
   "cell_type": "code",
   "execution_count": 39,
   "metadata": {},
   "outputs": [
    {
     "data": {
      "text/plain": [
       "<matplotlib.axes._subplots.AxesSubplot at 0x1070d0b70>"
      ]
     },
     "execution_count": 39,
     "metadata": {},
     "output_type": "execute_result"
    },
    {
     "data": {
      "image/png": "[encoded data removed]",
      "text/plain": [
       "<Figure size 432x288 with 1 Axes>"
      ]
     },
     "metadata": {},
     "output_type": "display_data"
    }
   ],
   "source": [
    "# quick look at spread of most common genres\n",
    "genres_contemp.sum().sort_values(ascending=False).plot.bar()"
   ]
  },
  {
   "cell_type": "code",
   "execution_count": 40,
   "metadata": {},
   "outputs": [],
   "source": [
    "# Set up some variables to show the average ratings and popularity by genre\n",
    "# Do this by multiplying the ratings and # of ratings by the dummy values in the genre columns\n",
    "genres_contemp_imdb_rating = genres_contemp.apply(lambda x: x*df_contemp['imdb_rating'])\n",
    "genres_contemp_rt_rating = genres_contemp.apply(lambda x: x*df_contemp['rt_critic_rating'])\n",
    "genres_contemp_popularity = genres_contemp.apply(lambda x: x*df_contemp['num_imdb_ratings'])"
   ]
  },
  {
   "cell_type": "code",
   "execution_count": 41,
   "metadata": {},
   "outputs": [],
   "source": [
    "# Capture the average of each parameter per genre\n",
    "genre_imdb_avg = genres_contemp_imdb_rating.sum()/genres_contemp.sum()\n",
    "genre_rt_avg = genres_contemp_rt_rating.sum()/genres_contemp.sum()\n",
    "genre_pop_avg = genres_contemp_popularity.sum()/genres_contemp.sum()"
   ]
  },
  {
   "cell_type": "markdown",
   "metadata": {},
   "source": [
    "Let's take a look at some descriptive stats to see what this is telling us about averages across genres."
   ]
  },
  {
   "cell_type": "code",
   "execution_count": 42,
   "metadata": {},
   "outputs": [
    {
     "data": {
      "text/html": [
       "<div>\n",
       "<style scoped>\n",
       "    .dataframe tbody tr th:only-of-type {\n",
       "        vertical-align: middle;\n",
       "    }\n",
       "\n",
       "    .dataframe tbody tr th {\n",
       "        vertical-align: top;\n",
       "    }\n",
       "\n",
       "    .dataframe thead th {\n",
       "        text-align: right;\n",
       "    }\n",
       "</style>\n",
       "<table border=\"1\" class=\"dataframe\">\n",
       "  <thead>\n",
       "    <tr style=\"text-align: right;\">\n",
       "      <th></th>\n",
       "      <th>rt_avg</th>\n",
       "      <th>imdb_avg</th>\n",
       "      <th>pop_avg</th>\n",
       "    </tr>\n",
       "  </thead>\n",
       "  <tbody>\n",
       "    <tr>\n",
       "      <th>count</th>\n",
       "      <td>14.000000</td>\n",
       "      <td>14.000000</td>\n",
       "      <td>14.000000</td>\n",
       "    </tr>\n",
       "    <tr>\n",
       "      <th>mean</th>\n",
       "      <td>88.883180</td>\n",
       "      <td>8.444772</td>\n",
       "      <td>111640.054086</td>\n",
       "    </tr>\n",
       "    <tr>\n",
       "      <th>std</th>\n",
       "      <td>2.681519</td>\n",
       "      <td>0.164671</td>\n",
       "      <td>35749.255485</td>\n",
       "    </tr>\n",
       "    <tr>\n",
       "      <th>min</th>\n",
       "      <td>85.454545</td>\n",
       "      <td>8.237500</td>\n",
       "      <td>28096.714286</td>\n",
       "    </tr>\n",
       "    <tr>\n",
       "      <th>25%</th>\n",
       "      <td>87.008730</td>\n",
       "      <td>8.336033</td>\n",
       "      <td>86870.464773</td>\n",
       "    </tr>\n",
       "    <tr>\n",
       "      <th>50%</th>\n",
       "      <td>88.269048</td>\n",
       "      <td>8.381746</td>\n",
       "      <td>123630.885470</td>\n",
       "    </tr>\n",
       "    <tr>\n",
       "      <th>75%</th>\n",
       "      <td>89.897222</td>\n",
       "      <td>8.514643</td>\n",
       "      <td>135411.110942</td>\n",
       "    </tr>\n",
       "    <tr>\n",
       "      <th>max</th>\n",
       "      <td>95.200000</td>\n",
       "      <td>8.771429</td>\n",
       "      <td>158686.600000</td>\n",
       "    </tr>\n",
       "  </tbody>\n",
       "</table>\n",
       "</div>"
      ],
      "text/plain": [
       "          rt_avg   imdb_avg        pop_avg\n",
       "count  14.000000  14.000000      14.000000\n",
       "mean   88.883180   8.444772  111640.054086\n",
       "std     2.681519   0.164671   35749.255485\n",
       "min    85.454545   8.237500   28096.714286\n",
       "25%    87.008730   8.336033   86870.464773\n",
       "50%    88.269048   8.381746  123630.885470\n",
       "75%    89.897222   8.514643  135411.110942\n",
       "max    95.200000   8.771429  158686.600000"
      ]
     },
     "execution_count": 42,
     "metadata": {},
     "output_type": "execute_result"
    }
   ],
   "source": [
    "# Create a small dataframe using just the data we need and look at the descriptive stats\n",
    "df_avg_compare = pd.concat([genre_rt_avg, genre_imdb_avg, genre_pop_avg], axis=1)\n",
    "df_avg_compare.columns = ['rt_avg', 'imdb_avg', 'pop_avg']\n",
    "df_avg_compare.describe()"
   ]
  },
  {
   "cell_type": "markdown",
   "metadata": {},
   "source": [
    "There is not much this is showing us, other than the \"popularity\" averages appear most interesting to look at.\n",
    "\n",
    "IMDB ratings appear to be fairly similar, so let's look at Rotten Tomatoes ratings, most people's first stop to gauge how good a show is."
   ]
  },
  {
   "cell_type": "code",
   "execution_count": 43,
   "metadata": {},
   "outputs": [],
   "source": [
    "# Sort by one the popularity variable, so we can hopefully see if the average rating has a similar or opposite trend\n",
    "df_avg_compare = df_avg_compare.sort_values('pop_avg')"
   ]
  },
  {
   "cell_type": "code",
   "execution_count": 44,
   "metadata": {},
   "outputs": [
    {
     "data": {
      "image/png": "[encoded data removed]",
      "text/plain": [
       "<Figure size 864x504 with 2 Axes>"
      ]
     },
     "metadata": {},
     "output_type": "display_data"
    }
   ],
   "source": [
    "# Take a look at the relationship between popularity and ratings\n",
    "fig = plt.figure(figsize=(12,7))\n",
    "plt.suptitle('Comparing Rating and Popularity by Genre', fontsize = 20)\n",
    "ax = fig.add_subplot(111)\n",
    "ax2 = ax.twinx()\n",
    "\n",
    "df_avg_compare.rt_avg.plot(kind='bar', color='salmon', ax=ax, width=0.3, position=1, label='average rating')\n",
    "df_avg_compare.pop_avg.plot(kind='bar', color='deepskyblue', ax=ax2, width=0.3, position=0, label='# of ratings')\n",
    "\n",
    "ax.legend(loc='upper left')\n",
    "ax2.legend(loc='upper left', bbox_to_anchor=(0, .94))\n",
    "ax.set_xlabel('Genre', fontsize=15)\n",
    "ax.set_ylim(80,100)\n",
    "ax.set_ylabel('Rating', fontsize=15)\n",
    "ax2.set_ylabel('Popularity', fontsize=15, labelpad=15.0)\n",
    "plt.show()"
   ]
  },
  {
   "cell_type": "code",
   "execution_count": 45,
   "metadata": {},
   "outputs": [
    {
     "data": {
      "text/plain": [
       "-0.6446794882910207"
      ]
     },
     "execution_count": 45,
     "metadata": {},
     "output_type": "execute_result"
    }
   ],
   "source": [
    "# see if the correlation matches what the visualization appears to shoow\n",
    "genre_pop_avg.corr(genre_rt_avg)"
   ]
  },
  {
   "cell_type": "markdown",
   "metadata": {},
   "source": [
    "Ratings have a negative correlation to our metric of popularity. A highly rated show is often not the most popular.\n",
    "\n",
    "Since we're trying to find what programming will generate revenue and excitement for Microsoft, **our metric of success should be measured by the popularity**, which in this case is the number of ratings on IMDB.\n",
    "\n",
    "Next, let's see if we can figure out which networks offer the most popular programming."
   ]
  },
  {
   "cell_type": "code",
   "execution_count": 46,
   "metadata": {},
   "outputs": [
    {
     "data": {
      "text/plain": [
       "Netflix                                                 34\n",
       "HBO                                                     13\n",
       "NBC                                                      8\n",
       "FX                                                       7\n",
       "Hulu                                                     6\n",
       "CW                                                       5\n",
       "Cartoon Network                                          4\n",
       "Amazon Prime Video                                       4\n",
       "USA                                                      3\n",
       "Starz                                                    3\n",
       "ABC                                                      3\n",
       "PBS                                                      3\n",
       "Amazon                                                   3\n",
       "CBS                                                      2\n",
       "Showtime                                                 2\n",
       "BBC America                                              2\n",
       "Crunchyroll                                              2\n",
       "BBC Two                                                  1\n",
       "Acorn                                                    1\n",
       "Science                                                  1\n",
       "FOX/Netflix                                              1\n",
       "BBC                                                      1\n",
       "Netflix (season 1); Hulu                                 1\n",
       "Cartoon Network (Season 1-2) DC Universe (Season 3-)     1\n",
       "TruTV                                                    1\n",
       "AT-X                                                     1\n",
       "History                                                  1\n",
       "NGC                                                      1\n",
       "Channel 5                                                1\n",
       "Netflix/Cartoon Network/Funimation                       1\n",
       "BBC America/AMC                                          1\n",
       "AMC                                                      1\n",
       "YouTube Premium                                          1\n",
       "Comedy Central                                           1\n",
       "Disney                                                   1\n",
       "ZDF                                                      1\n",
       "Disney+                                                  1\n",
       "WEB TV US                                                1\n",
       "SyFy                                                     1\n",
       "BBC UK                                                   1\n",
       "Apple TV+                                                1\n",
       "Aniplex                                                  1\n",
       "louisck.net                                              1\n",
       "Cinemax                                                  1\n",
       "SVT                                                      1\n",
       "FOX; NBC                                                 1\n",
       "POP                                                      1\n",
       "Acorn TV                                                 1\n",
       "SyFy (Seasons 1-3); Amazon Studios                       1\n",
       "Name: network, dtype: int64"
      ]
     },
     "execution_count": 46,
     "metadata": {},
     "output_type": "execute_result"
    }
   ],
   "source": [
    "# Hmm, some network values need cleaning up.\n",
    "df_contemp['network'].value_counts()"
   ]
  },
  {
   "cell_type": "code",
   "execution_count": 47,
   "metadata": {},
   "outputs": [
    {
     "name": "stderr",
     "output_type": "stream",
     "text": [
      "/opt/anaconda3/envs/learn-env/lib/python3.6/site-packages/ipykernel_launcher.py:24: SettingWithCopyWarning: \n",
      "A value is trying to be set on a copy of a slice from a DataFrame.\n",
      "Try using .loc[row_indexer,col_indexer] = value instead\n",
      "\n",
      "See the caveats in the documentation: https://pandas.pydata.org/pandas-docs/stable/user_guide/indexing.html#returning-a-view-versus-a-copy\n"
     ]
    }
   ],
   "source": [
    "# Clean up with np.select! \n",
    "conditions = [\n",
    "    (df_contemp['network'].str.find('BBC') >= 0),\n",
    "    (df_contemp['network'].str.find('Amazon') >= 0),\n",
    "    (df_contemp['network'].str.find('Hulu') >= 0),\n",
    "    (df_contemp['network'].str.find('NBC') >= 0),\n",
    "    (df_contemp['network'].str.find('Acorn') >= 0),\n",
    "    (df_contemp['network'].str.find('Cartoon Network') >= 0),\n",
    "    (df_contemp['network'].str.find('Netflix') >= 0),\n",
    "    (df_contemp['network'].str.find('Disney') >= 0)\n",
    "]\n",
    "\n",
    "choices = [\n",
    "    'BBC',\n",
    "    'Amazon',\n",
    "    'Hulu',\n",
    "    'NBC',\n",
    "    'Acorn',\n",
    "    'Cartoon Network',\n",
    "    'Netflix',\n",
    "    'Disney'\n",
    "]\n",
    "\n",
    "df_contemp['network'] = np.select(conditions, choices, default=df_contemp['network'])"
   ]
  },
  {
   "cell_type": "code",
   "execution_count": 48,
   "metadata": {},
   "outputs": [
    {
     "data": {
      "text/plain": [
       "Netflix            35\n",
       "HBO                13\n",
       "NBC                 9\n",
       "Amazon              8\n",
       "Hulu                7\n",
       "FX                  7\n",
       "Cartoon Network     6\n",
       "BBC                 6\n",
       "CW                  5\n",
       "USA                 3\n",
       "Starz               3\n",
       "PBS                 3\n",
       "ABC                 3\n",
       "Disney              2\n",
       "Acorn               2\n",
       "Crunchyroll         2\n",
       "Showtime            2\n",
       "CBS                 2\n",
       "Comedy Central      1\n",
       "Channel 5           1\n",
       "YouTube Premium     1\n",
       "History             1\n",
       "AMC                 1\n",
       "SyFy                1\n",
       "Science             1\n",
       "TruTV               1\n",
       "Cinemax             1\n",
       "SVT                 1\n",
       "ZDF                 1\n",
       "WEB TV US           1\n",
       "AT-X                1\n",
       "POP                 1\n",
       "Apple TV+           1\n",
       "Aniplex             1\n",
       "louisck.net         1\n",
       "NGC                 1\n",
       "Name: network, dtype: int64"
      ]
     },
     "execution_count": 48,
     "metadata": {},
     "output_type": "execute_result"
    }
   ],
   "source": [
    "# Take a peek at our cleaner data\n",
    "df_contemp['network'].value_counts()"
   ]
  },
  {
   "cell_type": "code",
   "execution_count": 49,
   "metadata": {},
   "outputs": [],
   "source": [
    "# Let's focus on networks with 5 or more popular shows\n",
    "top_networks = ['Netflix', 'HBO', 'NBC', 'Amazon', 'Hulu', 'FX', 'BBC', 'Cartoon Network', 'CW']\n",
    "top_networks_contemp = df_contemp[df_contemp['network'].isin(top_networks)]"
   ]
  },
  {
   "cell_type": "code",
   "execution_count": 50,
   "metadata": {},
   "outputs": [],
   "source": [
    "# Add up the number of IMDB ratings per network, as well as the number of shows per network\n",
    "pop_per_network = top_networks_contemp.groupby('network')['num_imdb_ratings'].sum()\n",
    "shows_per_network = top_networks_contemp['network'].value_counts()"
   ]
  },
  {
   "cell_type": "markdown",
   "metadata": {},
   "source": [
    "Let's look to see who has generated the highest total ratings."
   ]
  },
  {
   "cell_type": "code",
   "execution_count": 51,
   "metadata": {},
   "outputs": [
    {
     "data": {
      "text/plain": [
       "<matplotlib.axes._subplots.AxesSubplot at 0x125f66438>"
      ]
     },
     "execution_count": 51,
     "metadata": {},
     "output_type": "execute_result"
    },
    {
     "data": {
      "image/png": "[encoded data removed]",
      "text/plain": [
       "<Figure size 720x432 with 1 Axes>"
      ]
     },
     "metadata": {},
     "output_type": "display_data"
    }
   ],
   "source": [
    "pop_per_network.plot.bar(figsize=(10,6), color='deepskyblue')"
   ]
  },
  {
   "cell_type": "markdown",
   "metadata": {},
   "source": [
    "No surprise that it's Netflix, given the fact that they have so many more shows that have made the cut.\n",
    "\n",
    "But what about on average?"
   ]
  },
  {
   "cell_type": "code",
   "execution_count": 52,
   "metadata": {},
   "outputs": [
    {
     "data": {
      "text/plain": [
       "Amazon              49572.500000\n",
       "BBC                 52983.500000\n",
       "CW                 180467.800000\n",
       "Cartoon Network    102299.000000\n",
       "FX                 121341.142857\n",
       "HBO                162752.384615\n",
       "Hulu                42499.714286\n",
       "NBC                 86102.555556\n",
       "Netflix            125023.228571\n",
       "dtype: float64"
      ]
     },
     "execution_count": 52,
     "metadata": {},
     "output_type": "execute_result"
    }
   ],
   "source": [
    "# Divide number of ratings by number of shows to get an average\n",
    "network_pop_avg = pop_per_network/shows_per_network\n",
    "network_pop_avg"
   ]
  },
  {
   "cell_type": "code",
   "execution_count": 53,
   "metadata": {},
   "outputs": [
    {
     "data": {
      "text/plain": [
       "Text(0, 0.5, 'Average # of Ratings')"
      ]
     },
     "execution_count": 53,
     "metadata": {},
     "output_type": "execute_result"
    },
    {
     "data": {
      "image/png": "[encoded data removed]",
      "text/plain": [
       "<Figure size 864x504 with 1 Axes>"
      ]
     },
     "metadata": {},
     "output_type": "display_data"
    }
   ],
   "source": [
    "# Plot out an average\n",
    "network_pop_avg.sort_values(ascending=False).plot.bar(figsize=(12,7), color='deepskyblue')\n",
    "plt.title('Average # of Ratings by Network', fontsize=20, pad=10)\n",
    "plt.xlabel('Network', fontsize=15, labelpad=10)\n",
    "plt.ylabel('Average # of Ratings', fontsize=15, labelpad=10)"
   ]
  },
  {
   "cell_type": "markdown",
   "metadata": {},
   "source": [
    "Netflix is barely hanging on in third! Look at how good CW, HBO, FX, and Cartoon Network look. Some alternatives to consider when looking at who to emulate.\n",
    "\n",
    "Now let's see whether there are any noticeable differences in popularity between adaptations and original programming."
   ]
  },
  {
   "cell_type": "code",
   "execution_count": 54,
   "metadata": {},
   "outputs": [
    {
     "name": "stderr",
     "output_type": "stream",
     "text": [
      "/opt/anaconda3/envs/learn-env/lib/python3.6/site-packages/ipykernel_launcher.py:18: SettingWithCopyWarning: \n",
      "A value is trying to be set on a copy of a slice from a DataFrame.\n",
      "Try using .loc[row_indexer,col_indexer] = value instead\n",
      "\n",
      "See the caveats in the documentation: https://pandas.pydata.org/pandas-docs/stable/user_guide/indexing.html#returning-a-view-versus-a-copy\n"
     ]
    }
   ],
   "source": [
    "# Painstaking research regarding the originality of each programming\n",
    "# (0 = based on source material [including documentaries, spin-offs, etc.]\n",
    "#  1 = not based on source material)\n",
    "df_contemp['original'] = [\n",
    " 1, 1, 0, 0, 0, 0, 1, 0, 1, 1,\n",
    " 0, 0, 1, 0, 0, 1, 0, 1, 1, 0,\n",
    " 1, 0, 1, 1, 0, 1, 1, 1, 0, 1,\n",
    " 0, 0, 1, 0, 0, 0, 0, 1, 0, 0,\n",
    " 1, 0, 0, 1, 0, 0, 0, 1, 1, 1,\n",
    " 1, 0, 0, 1, 1, 1, 0, 0, 1, 1,\n",
    " 0, 0, 0, 1, 0, 0, 0, 0, 0, 0,\n",
    " 1, 0, 1, 1, 0, 1, 0, 0, 0, 0,\n",
    " 1, 0, 0, 0, 1, 0, 0, 0, 0, 1,\n",
    " 1, 1, 1, 0, 0, 0, 0, 0, 1, 0,\n",
    " 0, 1, 1, 0, 1, 1, 0, 0, 0, 0,\n",
    " 1, 0, 0, 1, 1, 0, 1, 1, 0, 1,\n",
    " 0, 0, 1, 0, 0, 1, 1, 0, 0, 1,\n",
    " 1, 0, 1, 1, 0, 1 ]"
   ]
  },
  {
   "cell_type": "code",
   "execution_count": 55,
   "metadata": {},
   "outputs": [],
   "source": [
    "# Create a dataframe for both adaptations and original shows\n",
    "df_contemp_adapt = df_contemp[df_contemp['original'] == 0]\n",
    "df_contemp_orig = df_contemp[df_contemp['original'] == 1]"
   ]
  },
  {
   "cell_type": "code",
   "execution_count": 67,
   "metadata": {},
   "outputs": [
    {
     "data": {
      "image/png": "[encoded data removed]",
      "text/plain": [
       "<Figure size 720x504 with 2 Axes>"
      ]
     },
     "metadata": {},
     "output_type": "display_data"
    }
   ],
   "source": [
    "fig, axs = plt.subplots(nrows=1, ncols=2, figsize=(10,7))\n",
    "\n",
    "axs[0].scatter(df_contemp_adapt['original'], df_contemp_adapt['num_imdb_ratings'])\n",
    "axs[0].scatter(df_contemp_orig['original'], df_contemp_orig['num_imdb_ratings'])\n",
    "axs[0].set_title('Popularity for\\nAdapted & Original Content')\n",
    "axs[0].set_xlabel('Type of Content')\n",
    "axs[0].set_ylabel('# of Ratings')\n",
    "\n",
    "axs[1].scatter(df_contemp_adapt['original'], df_contemp_adapt['rt_critic_rating'])\n",
    "axs[1].scatter(df_contemp_orig['original'], df_contemp_orig['rt_critic_rating'])\n",
    "axs[1].set_title('Ratings for\\nAdapted & Original Content')\n",
    "axs[1].set_xlabel('Type of Content')\n",
    "axs[1].set_ylabel('Rating')\n",
    "\n",
    "axs[0].locator_params(axis='x', nbins=2)\n",
    "axs[1].locator_params(axis='x', nbins=2)\n",
    "x_ticks = ['Adapted', 'Adapted', 'Original']\n",
    "axs[0].set_xticklabels(x_ticks)\n",
    "axs[1].set_xticklabels(x_ticks)\n",
    "\n",
    "plt.tight_layout(pad=3)"
   ]
  },
  {
   "cell_type": "markdown",
   "metadata": {},
   "source": [
    "Very similar results it would seem. Let's see if averaging out these metrics does us any good."
   ]
  },
  {
   "cell_type": "code",
   "execution_count": 61,
   "metadata": {},
   "outputs": [
    {
     "data": {
      "text/plain": [
       "Text(0, 0.5, 'Rating')"
      ]
     },
     "execution_count": 61,
     "metadata": {},
     "output_type": "execute_result"
    },
    {
     "data": {
      "image/png": "[encoded data removed]",
      "text/plain": [
       "<Figure size 864x432 with 2 Axes>"
      ]
     },
     "metadata": {},
     "output_type": "display_data"
    }
   ],
   "source": [
    "adapt_avg = df_contemp_adapt['num_imdb_ratings'].sum()/len(df_contemp_adapt)\n",
    "orig_avg = df_contemp_orig['num_imdb_ratings'].sum()/len(df_contemp_orig)\n",
    "\n",
    "adapt_rt_avg = df_contemp_adapt['rt_critic_rating'].sum()/len(df_contemp_adapt)\n",
    "orig_rt_avg = df_contemp_orig['rt_critic_rating'].sum()/len(df_contemp_orig)\n",
    "\n",
    "fig, axs = plt.subplots(nrows=1, ncols=2, figsize=(12,6))\n",
    "\n",
    "axs[0].bar(['Adaptation', 'Original'], [adapt_avg, orig_avg])\n",
    "axs[0].set_title('Average Popularity for\\nAdapted & Original Content')\n",
    "axs[0].set_ylim(85000,110000)\n",
    "axs[0].set_ylabel('# of Ratings')\n",
    "\n",
    "axs[1].bar(['Adaptation', 'Original'], [adapt_rt_avg, orig_rt_avg])\n",
    "axs[1].set_title('Average Rating for\\nAdapted & Original Content')\n",
    "axs[1].set_ylim(85, 90)\n",
    "axs[1].set_ylabel('Rating')"
   ]
  },
  {
   "cell_type": "markdown",
   "metadata": {},
   "source": [
    "Again, opposite stories, but based on the metric we have chosen, adaptations seem to hold a slight advantage in terms of creating more popular content."
   ]
  },
  {
   "cell_type": "markdown",
   "metadata": {},
   "source": [
    "# Conclusion"
   ]
  },
  {
   "cell_type": "markdown",
   "metadata": {},
   "source": [
    "* The number of IMDB ratings can be used as a proxy for a show's popularity, which does **not** correlate with how highly a show is rated.\n",
    "* History, thriller, sci-fi, adventure, and crime shows are the top five genres.\n",
    "* Netflix runs on sheer volume of shows, though it is still in the top three most popular networks. HBO clearly has both high show popularity and high show volume. The CW and Cartoon Network each had a surprisingly high average show popularity.\n",
    "* No huge differences between adaptations and original programming, but adaptations do hold a slight edge in terms of a show's popularity."
   ]
  }
 ],
 "metadata": {
  "kernelspec": {
   "display_name": "Python [conda env:learn-env] *",
   "language": "python",
   "name": "conda-env-learn-env-py"
  },
  "language_info": {
   "codemirror_mode": {
    "name": "ipython",
    "version": 3
   },
   "file_extension": ".py",
   "mimetype": "text/x-python",
   "name": "python",
   "nbconvert_exporter": "python",
   "pygments_lexer": "ipython3",
   "version": "3.6.9"
  }
 },
 "nbformat": 4,
 "nbformat_minor": 2
}
