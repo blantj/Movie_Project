{
 "cells": [
  {
   "cell_type": "code",
   "execution_count": 100,
   "metadata": {},
   "outputs": [],
   "source": [
    "import pandas as pd\n",
    "import numpy as np\n",
    "import ast\n",
    "from scipy import stats\n",
    "import matplotlib.pyplot as plt\n",
    "%matplotlib inline\n",
    "import seaborn as sns\n",
    "# from functions_josh import *"
   ]
  },
  {
   "cell_type": "code",
   "execution_count": 2,
   "metadata": {},
   "outputs": [],
   "source": [
    "# Load dataframe\n",
    "df = pd.read_csv('shows_imdb_rt.csv', index_col=0)"
   ]
  },
  {
   "cell_type": "code",
   "execution_count": 3,
   "metadata": {},
   "outputs": [
    {
     "data": {
      "text/html": [
       "<div>\n",
       "<style scoped>\n",
       "    .dataframe tbody tr th:only-of-type {\n",
       "        vertical-align: middle;\n",
       "    }\n",
       "\n",
       "    .dataframe tbody tr th {\n",
       "        vertical-align: top;\n",
       "    }\n",
       "\n",
       "    .dataframe thead th {\n",
       "        text-align: right;\n",
       "    }\n",
       "</style>\n",
       "<table border=\"1\" class=\"dataframe\">\n",
       "  <thead>\n",
       "    <tr style=\"text-align: right;\">\n",
       "      <th></th>\n",
       "      <th>title</th>\n",
       "      <th>network</th>\n",
       "      <th>imdb_rating</th>\n",
       "      <th>num_imdb_ratings</th>\n",
       "      <th>rt_critic_rating</th>\n",
       "      <th>rt_audience_rating</th>\n",
       "      <th>genres</th>\n",
       "      <th>tv_rating</th>\n",
       "      <th>release_year</th>\n",
       "      <th>runtime_mins</th>\n",
       "      <th>imdb_url</th>\n",
       "    </tr>\n",
       "  </thead>\n",
       "  <tbody>\n",
       "    <tr>\n",
       "      <th>0</th>\n",
       "      <td>La Casa de Papel</td>\n",
       "      <td>Netflix</td>\n",
       "      <td>8.5</td>\n",
       "      <td>215007</td>\n",
       "      <td>91.0</td>\n",
       "      <td>82.0</td>\n",
       "      <td>['action', 'crime', 'mystery', 'thriller']</td>\n",
       "      <td>TV-MA</td>\n",
       "      <td>2017.0</td>\n",
       "      <td>70.0</td>\n",
       "      <td>https://www.imdb.com/title/tt6468322/</td>\n",
       "    </tr>\n",
       "    <tr>\n",
       "      <th>1</th>\n",
       "      <td>Ozark</td>\n",
       "      <td>Netflix</td>\n",
       "      <td>8.4</td>\n",
       "      <td>136710</td>\n",
       "      <td>81.0</td>\n",
       "      <td>91.0</td>\n",
       "      <td>['crime', 'drama', 'thriller']</td>\n",
       "      <td>TV-MA</td>\n",
       "      <td>2017.0</td>\n",
       "      <td>60.0</td>\n",
       "      <td>https://www.imdb.com/title/tt5071412/</td>\n",
       "    </tr>\n",
       "    <tr>\n",
       "      <th>2</th>\n",
       "      <td>Tiger King</td>\n",
       "      <td>Netflix</td>\n",
       "      <td>7.8</td>\n",
       "      <td>33700</td>\n",
       "      <td>86.0</td>\n",
       "      <td>86.0</td>\n",
       "      <td>['documentary', 'crime']</td>\n",
       "      <td>TV-MA</td>\n",
       "      <td>2020.0</td>\n",
       "      <td>31.0</td>\n",
       "      <td>https://www.imdb.com/title/tt11823076/</td>\n",
       "    </tr>\n",
       "    <tr>\n",
       "      <th>3</th>\n",
       "      <td>Westworld</td>\n",
       "      <td>HBO</td>\n",
       "      <td>8.7</td>\n",
       "      <td>388252</td>\n",
       "      <td>85.0</td>\n",
       "      <td>80.0</td>\n",
       "      <td>['drama', 'mystery', 'sci-fi', 'western']</td>\n",
       "      <td>TV-MA</td>\n",
       "      <td>2016.0</td>\n",
       "      <td>62.0</td>\n",
       "      <td>https://www.imdb.com/title/tt0475784/</td>\n",
       "    </tr>\n",
       "    <tr>\n",
       "      <th>4</th>\n",
       "      <td>The Walking Dead</td>\n",
       "      <td>AMC</td>\n",
       "      <td>8.2</td>\n",
       "      <td>821809</td>\n",
       "      <td>81.0</td>\n",
       "      <td>78.0</td>\n",
       "      <td>['drama', 'horror', 'thriller']</td>\n",
       "      <td>TV-MA</td>\n",
       "      <td>2010.0</td>\n",
       "      <td>44.0</td>\n",
       "      <td>https://www.imdb.com/title/tt1520211/</td>\n",
       "    </tr>\n",
       "  </tbody>\n",
       "</table>\n",
       "</div>"
      ],
      "text/plain": [
       "              title  network  imdb_rating  num_imdb_ratings  rt_critic_rating  \\\n",
       "0  La Casa de Papel  Netflix          8.5            215007              91.0   \n",
       "1             Ozark  Netflix          8.4            136710              81.0   \n",
       "2        Tiger King  Netflix          7.8             33700              86.0   \n",
       "3         Westworld      HBO          8.7            388252              85.0   \n",
       "4  The Walking Dead      AMC          8.2            821809              81.0   \n",
       "\n",
       "   rt_audience_rating                                      genres tv_rating  \\\n",
       "0                82.0  ['action', 'crime', 'mystery', 'thriller']     TV-MA   \n",
       "1                91.0              ['crime', 'drama', 'thriller']     TV-MA   \n",
       "2                86.0                    ['documentary', 'crime']     TV-MA   \n",
       "3                80.0   ['drama', 'mystery', 'sci-fi', 'western']     TV-MA   \n",
       "4                78.0             ['drama', 'horror', 'thriller']     TV-MA   \n",
       "\n",
       "   release_year  runtime_mins                                imdb_url  \n",
       "0        2017.0          70.0   https://www.imdb.com/title/tt6468322/  \n",
       "1        2017.0          60.0   https://www.imdb.com/title/tt5071412/  \n",
       "2        2020.0          31.0  https://www.imdb.com/title/tt11823076/  \n",
       "3        2016.0          62.0   https://www.imdb.com/title/tt0475784/  \n",
       "4        2010.0          44.0   https://www.imdb.com/title/tt1520211/  "
      ]
     },
     "execution_count": 3,
     "metadata": {},
     "output_type": "execute_result"
    }
   ],
   "source": [
    "# Take a peek\n",
    "df.head()"
   ]
  },
  {
   "cell_type": "code",
   "execution_count": 4,
   "metadata": {},
   "outputs": [
    {
     "name": "stdout",
     "output_type": "stream",
     "text": [
      "<class 'pandas.core.frame.DataFrame'>\n",
      "Int64Index: 247 entries, 0 to 246\n",
      "Data columns (total 11 columns):\n",
      " #   Column              Non-Null Count  Dtype  \n",
      "---  ------              --------------  -----  \n",
      " 0   title               247 non-null    object \n",
      " 1   network             247 non-null    object \n",
      " 2   imdb_rating         247 non-null    float64\n",
      " 3   num_imdb_ratings    247 non-null    int64  \n",
      " 4   rt_critic_rating    247 non-null    float64\n",
      " 5   rt_audience_rating  194 non-null    float64\n",
      " 6   genres              247 non-null    object \n",
      " 7   tv_rating           247 non-null    object \n",
      " 8   release_year        247 non-null    float64\n",
      " 9   runtime_mins        247 non-null    float64\n",
      " 10  imdb_url            247 non-null    object \n",
      "dtypes: float64(5), int64(1), object(5)\n",
      "memory usage: 23.2+ KB\n"
     ]
    }
   ],
   "source": [
    "# Check for datatypes and null values\n",
    "df.info()"
   ]
  },
  {
   "cell_type": "code",
   "execution_count": 5,
   "metadata": {},
   "outputs": [
    {
     "name": "stdout",
     "output_type": "stream",
     "text": [
      "<class 'pandas.core.frame.DataFrame'>\n",
      "Int64Index: 247 entries, 0 to 246\n",
      "Data columns (total 10 columns):\n",
      " #   Column            Non-Null Count  Dtype  \n",
      "---  ------            --------------  -----  \n",
      " 0   title             247 non-null    object \n",
      " 1   network           247 non-null    object \n",
      " 2   imdb_rating       247 non-null    float64\n",
      " 3   num_imdb_ratings  247 non-null    int64  \n",
      " 4   rt_critic_rating  247 non-null    float64\n",
      " 5   genres            247 non-null    object \n",
      " 6   tv_rating         247 non-null    object \n",
      " 7   release_year      247 non-null    float64\n",
      " 8   runtime_mins      247 non-null    float64\n",
      " 9   imdb_url          247 non-null    object \n",
      "dtypes: float64(4), int64(1), object(5)\n",
      "memory usage: 21.2+ KB\n"
     ]
    }
   ],
   "source": [
    "# Drop column with null values, knowing we can grab it later if necessary\n",
    "df = df.dropna(axis=1)\n",
    "df.info()"
   ]
  },
  {
   "cell_type": "code",
   "execution_count": 6,
   "metadata": {},
   "outputs": [
    {
     "name": "stdout",
     "output_type": "stream",
     "text": [
      "<class 'pandas.core.frame.DataFrame'>\n",
      "Int64Index: 247 entries, 0 to 246\n",
      "Data columns (total 10 columns):\n",
      " #   Column            Non-Null Count  Dtype  \n",
      "---  ------            --------------  -----  \n",
      " 0   title             247 non-null    object \n",
      " 1   network           247 non-null    object \n",
      " 2   imdb_rating       247 non-null    float64\n",
      " 3   num_imdb_ratings  247 non-null    int64  \n",
      " 4   rt_critic_rating  247 non-null    int64  \n",
      " 5   genres            247 non-null    object \n",
      " 6   tv_rating         247 non-null    object \n",
      " 7   release_year      247 non-null    int64  \n",
      " 8   runtime_mins      247 non-null    int64  \n",
      " 9   imdb_url          247 non-null    object \n",
      "dtypes: float64(1), int64(4), object(5)\n",
      "memory usage: 21.2+ KB\n"
     ]
    }
   ],
   "source": [
    "# Change dtypes for columns without null values\n",
    "df[['rt_critic_rating', 'release_year', 'runtime_mins']] = df[['rt_critic_rating', 'release_year', 'runtime_mins']].astype('int64')\n",
    "df.info()"
   ]
  },
  {
   "cell_type": "code",
   "execution_count": 7,
   "metadata": {},
   "outputs": [
    {
     "data": {
      "text/plain": [
       "\"['crime', 'drama', 'thriller']\""
      ]
     },
     "execution_count": 7,
     "metadata": {},
     "output_type": "execute_result"
    }
   ],
   "source": [
    "# Notice that genres are lists trapped inside a string\n",
    "df.iloc[1]['genres']"
   ]
  },
  {
   "cell_type": "code",
   "execution_count": 8,
   "metadata": {},
   "outputs": [
    {
     "data": {
      "text/plain": [
       "['crime', 'drama', 'thriller']"
      ]
     },
     "execution_count": 8,
     "metadata": {},
     "output_type": "execute_result"
    }
   ],
   "source": [
    "# De-stringify the genres list scraped from IMDB\n",
    "df['genres'] = df.genres.apply(lambda x: ast.literal_eval(x))\n",
    "df.iloc[1]['genres']"
   ]
  },
  {
   "cell_type": "code",
   "execution_count": 9,
   "metadata": {},
   "outputs": [
    {
     "data": {
      "text/html": [
       "<div>\n",
       "<style scoped>\n",
       "    .dataframe tbody tr th:only-of-type {\n",
       "        vertical-align: middle;\n",
       "    }\n",
       "\n",
       "    .dataframe tbody tr th {\n",
       "        vertical-align: top;\n",
       "    }\n",
       "\n",
       "    .dataframe thead th {\n",
       "        text-align: right;\n",
       "    }\n",
       "</style>\n",
       "<table border=\"1\" class=\"dataframe\">\n",
       "  <thead>\n",
       "    <tr style=\"text-align: right;\">\n",
       "      <th></th>\n",
       "      <th>action</th>\n",
       "      <th>adventure</th>\n",
       "      <th>animation</th>\n",
       "      <th>biography</th>\n",
       "      <th>comedy</th>\n",
       "      <th>crime</th>\n",
       "      <th>documentary</th>\n",
       "      <th>drama</th>\n",
       "      <th>family</th>\n",
       "      <th>fantasy</th>\n",
       "      <th>...</th>\n",
       "      <th>news</th>\n",
       "      <th>reality-tv</th>\n",
       "      <th>romance</th>\n",
       "      <th>sci-fi</th>\n",
       "      <th>short</th>\n",
       "      <th>sport</th>\n",
       "      <th>talk-show</th>\n",
       "      <th>thriller</th>\n",
       "      <th>war</th>\n",
       "      <th>western</th>\n",
       "    </tr>\n",
       "  </thead>\n",
       "  <tbody>\n",
       "    <tr>\n",
       "      <th>0</th>\n",
       "      <td>1</td>\n",
       "      <td>0</td>\n",
       "      <td>0</td>\n",
       "      <td>0</td>\n",
       "      <td>0</td>\n",
       "      <td>1</td>\n",
       "      <td>0</td>\n",
       "      <td>0</td>\n",
       "      <td>0</td>\n",
       "      <td>0</td>\n",
       "      <td>...</td>\n",
       "      <td>0</td>\n",
       "      <td>0</td>\n",
       "      <td>0</td>\n",
       "      <td>0</td>\n",
       "      <td>0</td>\n",
       "      <td>0</td>\n",
       "      <td>0</td>\n",
       "      <td>1</td>\n",
       "      <td>0</td>\n",
       "      <td>0</td>\n",
       "    </tr>\n",
       "    <tr>\n",
       "      <th>1</th>\n",
       "      <td>0</td>\n",
       "      <td>0</td>\n",
       "      <td>0</td>\n",
       "      <td>0</td>\n",
       "      <td>0</td>\n",
       "      <td>1</td>\n",
       "      <td>0</td>\n",
       "      <td>1</td>\n",
       "      <td>0</td>\n",
       "      <td>0</td>\n",
       "      <td>...</td>\n",
       "      <td>0</td>\n",
       "      <td>0</td>\n",
       "      <td>0</td>\n",
       "      <td>0</td>\n",
       "      <td>0</td>\n",
       "      <td>0</td>\n",
       "      <td>0</td>\n",
       "      <td>1</td>\n",
       "      <td>0</td>\n",
       "      <td>0</td>\n",
       "    </tr>\n",
       "    <tr>\n",
       "      <th>2</th>\n",
       "      <td>0</td>\n",
       "      <td>0</td>\n",
       "      <td>0</td>\n",
       "      <td>0</td>\n",
       "      <td>0</td>\n",
       "      <td>1</td>\n",
       "      <td>1</td>\n",
       "      <td>0</td>\n",
       "      <td>0</td>\n",
       "      <td>0</td>\n",
       "      <td>...</td>\n",
       "      <td>0</td>\n",
       "      <td>0</td>\n",
       "      <td>0</td>\n",
       "      <td>0</td>\n",
       "      <td>0</td>\n",
       "      <td>0</td>\n",
       "      <td>0</td>\n",
       "      <td>0</td>\n",
       "      <td>0</td>\n",
       "      <td>0</td>\n",
       "    </tr>\n",
       "    <tr>\n",
       "      <th>3</th>\n",
       "      <td>0</td>\n",
       "      <td>0</td>\n",
       "      <td>0</td>\n",
       "      <td>0</td>\n",
       "      <td>0</td>\n",
       "      <td>0</td>\n",
       "      <td>0</td>\n",
       "      <td>1</td>\n",
       "      <td>0</td>\n",
       "      <td>0</td>\n",
       "      <td>...</td>\n",
       "      <td>0</td>\n",
       "      <td>0</td>\n",
       "      <td>0</td>\n",
       "      <td>1</td>\n",
       "      <td>0</td>\n",
       "      <td>0</td>\n",
       "      <td>0</td>\n",
       "      <td>0</td>\n",
       "      <td>0</td>\n",
       "      <td>1</td>\n",
       "    </tr>\n",
       "    <tr>\n",
       "      <th>4</th>\n",
       "      <td>0</td>\n",
       "      <td>0</td>\n",
       "      <td>0</td>\n",
       "      <td>0</td>\n",
       "      <td>0</td>\n",
       "      <td>0</td>\n",
       "      <td>0</td>\n",
       "      <td>1</td>\n",
       "      <td>0</td>\n",
       "      <td>0</td>\n",
       "      <td>...</td>\n",
       "      <td>0</td>\n",
       "      <td>0</td>\n",
       "      <td>0</td>\n",
       "      <td>0</td>\n",
       "      <td>0</td>\n",
       "      <td>0</td>\n",
       "      <td>0</td>\n",
       "      <td>1</td>\n",
       "      <td>0</td>\n",
       "      <td>0</td>\n",
       "    </tr>\n",
       "    <tr>\n",
       "      <th>...</th>\n",
       "      <td>...</td>\n",
       "      <td>...</td>\n",
       "      <td>...</td>\n",
       "      <td>...</td>\n",
       "      <td>...</td>\n",
       "      <td>...</td>\n",
       "      <td>...</td>\n",
       "      <td>...</td>\n",
       "      <td>...</td>\n",
       "      <td>...</td>\n",
       "      <td>...</td>\n",
       "      <td>...</td>\n",
       "      <td>...</td>\n",
       "      <td>...</td>\n",
       "      <td>...</td>\n",
       "      <td>...</td>\n",
       "      <td>...</td>\n",
       "      <td>...</td>\n",
       "      <td>...</td>\n",
       "      <td>...</td>\n",
       "      <td>...</td>\n",
       "    </tr>\n",
       "    <tr>\n",
       "      <th>242</th>\n",
       "      <td>1</td>\n",
       "      <td>0</td>\n",
       "      <td>1</td>\n",
       "      <td>0</td>\n",
       "      <td>0</td>\n",
       "      <td>0</td>\n",
       "      <td>0</td>\n",
       "      <td>0</td>\n",
       "      <td>1</td>\n",
       "      <td>0</td>\n",
       "      <td>...</td>\n",
       "      <td>0</td>\n",
       "      <td>0</td>\n",
       "      <td>0</td>\n",
       "      <td>1</td>\n",
       "      <td>0</td>\n",
       "      <td>0</td>\n",
       "      <td>0</td>\n",
       "      <td>1</td>\n",
       "      <td>0</td>\n",
       "      <td>0</td>\n",
       "    </tr>\n",
       "    <tr>\n",
       "      <th>243</th>\n",
       "      <td>0</td>\n",
       "      <td>0</td>\n",
       "      <td>1</td>\n",
       "      <td>0</td>\n",
       "      <td>1</td>\n",
       "      <td>0</td>\n",
       "      <td>0</td>\n",
       "      <td>0</td>\n",
       "      <td>0</td>\n",
       "      <td>0</td>\n",
       "      <td>...</td>\n",
       "      <td>0</td>\n",
       "      <td>0</td>\n",
       "      <td>0</td>\n",
       "      <td>1</td>\n",
       "      <td>0</td>\n",
       "      <td>0</td>\n",
       "      <td>0</td>\n",
       "      <td>0</td>\n",
       "      <td>0</td>\n",
       "      <td>0</td>\n",
       "    </tr>\n",
       "    <tr>\n",
       "      <th>244</th>\n",
       "      <td>0</td>\n",
       "      <td>0</td>\n",
       "      <td>0</td>\n",
       "      <td>0</td>\n",
       "      <td>0</td>\n",
       "      <td>1</td>\n",
       "      <td>0</td>\n",
       "      <td>1</td>\n",
       "      <td>0</td>\n",
       "      <td>0</td>\n",
       "      <td>...</td>\n",
       "      <td>0</td>\n",
       "      <td>0</td>\n",
       "      <td>0</td>\n",
       "      <td>0</td>\n",
       "      <td>0</td>\n",
       "      <td>0</td>\n",
       "      <td>0</td>\n",
       "      <td>1</td>\n",
       "      <td>0</td>\n",
       "      <td>0</td>\n",
       "    </tr>\n",
       "    <tr>\n",
       "      <th>245</th>\n",
       "      <td>0</td>\n",
       "      <td>0</td>\n",
       "      <td>0</td>\n",
       "      <td>1</td>\n",
       "      <td>0</td>\n",
       "      <td>1</td>\n",
       "      <td>0</td>\n",
       "      <td>1</td>\n",
       "      <td>0</td>\n",
       "      <td>0</td>\n",
       "      <td>...</td>\n",
       "      <td>0</td>\n",
       "      <td>0</td>\n",
       "      <td>0</td>\n",
       "      <td>0</td>\n",
       "      <td>0</td>\n",
       "      <td>0</td>\n",
       "      <td>0</td>\n",
       "      <td>0</td>\n",
       "      <td>0</td>\n",
       "      <td>0</td>\n",
       "    </tr>\n",
       "    <tr>\n",
       "      <th>246</th>\n",
       "      <td>0</td>\n",
       "      <td>0</td>\n",
       "      <td>0</td>\n",
       "      <td>0</td>\n",
       "      <td>0</td>\n",
       "      <td>1</td>\n",
       "      <td>0</td>\n",
       "      <td>1</td>\n",
       "      <td>0</td>\n",
       "      <td>0</td>\n",
       "      <td>...</td>\n",
       "      <td>0</td>\n",
       "      <td>0</td>\n",
       "      <td>0</td>\n",
       "      <td>0</td>\n",
       "      <td>0</td>\n",
       "      <td>0</td>\n",
       "      <td>0</td>\n",
       "      <td>0</td>\n",
       "      <td>0</td>\n",
       "      <td>0</td>\n",
       "    </tr>\n",
       "  </tbody>\n",
       "</table>\n",
       "<p>247 rows × 26 columns</p>\n",
       "</div>"
      ],
      "text/plain": [
       "     action  adventure  animation  biography  comedy  crime  documentary  \\\n",
       "0         1          0          0          0       0      1            0   \n",
       "1         0          0          0          0       0      1            0   \n",
       "2         0          0          0          0       0      1            1   \n",
       "3         0          0          0          0       0      0            0   \n",
       "4         0          0          0          0       0      0            0   \n",
       "..      ...        ...        ...        ...     ...    ...          ...   \n",
       "242       1          0          1          0       0      0            0   \n",
       "243       0          0          1          0       1      0            0   \n",
       "244       0          0          0          0       0      1            0   \n",
       "245       0          0          0          1       0      1            0   \n",
       "246       0          0          0          0       0      1            0   \n",
       "\n",
       "     drama  family  fantasy  ...  news  reality-tv  romance  sci-fi  short  \\\n",
       "0        0       0        0  ...     0           0        0       0      0   \n",
       "1        1       0        0  ...     0           0        0       0      0   \n",
       "2        0       0        0  ...     0           0        0       0      0   \n",
       "3        1       0        0  ...     0           0        0       1      0   \n",
       "4        1       0        0  ...     0           0        0       0      0   \n",
       "..     ...     ...      ...  ...   ...         ...      ...     ...    ...   \n",
       "242      0       1        0  ...     0           0        0       1      0   \n",
       "243      0       0        0  ...     0           0        0       1      0   \n",
       "244      1       0        0  ...     0           0        0       0      0   \n",
       "245      1       0        0  ...     0           0        0       0      0   \n",
       "246      1       0        0  ...     0           0        0       0      0   \n",
       "\n",
       "     sport  talk-show  thriller  war  western  \n",
       "0        0          0         1    0        0  \n",
       "1        0          0         1    0        0  \n",
       "2        0          0         0    0        0  \n",
       "3        0          0         0    0        1  \n",
       "4        0          0         1    0        0  \n",
       "..     ...        ...       ...  ...      ...  \n",
       "242      0          0         1    0        0  \n",
       "243      0          0         0    0        0  \n",
       "244      0          0         1    0        0  \n",
       "245      0          0         0    0        0  \n",
       "246      0          0         0    0        0  \n",
       "\n",
       "[247 rows x 26 columns]"
      ]
     },
     "execution_count": 9,
     "metadata": {},
     "output_type": "execute_result"
    }
   ],
   "source": [
    "# Make a dataframe of dummy genre colums to get a count of each genre\n",
    "df_genres = pd.get_dummies(df['genres'].apply(pd.Series).stack()).sum(level=0)\n",
    "df_genres"
   ]
  },
  {
   "cell_type": "code",
   "execution_count": 10,
   "metadata": {},
   "outputs": [
    {
     "data": {
      "text/html": [
       "<div>\n",
       "<style scoped>\n",
       "    .dataframe tbody tr th:only-of-type {\n",
       "        vertical-align: middle;\n",
       "    }\n",
       "\n",
       "    .dataframe tbody tr th {\n",
       "        vertical-align: top;\n",
       "    }\n",
       "\n",
       "    .dataframe thead th {\n",
       "        text-align: right;\n",
       "    }\n",
       "</style>\n",
       "<table border=\"1\" class=\"dataframe\">\n",
       "  <thead>\n",
       "    <tr style=\"text-align: right;\">\n",
       "      <th></th>\n",
       "      <th>title</th>\n",
       "      <th>network</th>\n",
       "      <th>imdb_rating</th>\n",
       "      <th>num_imdb_ratings</th>\n",
       "      <th>rt_critic_rating</th>\n",
       "      <th>genres</th>\n",
       "      <th>tv_rating</th>\n",
       "      <th>release_year</th>\n",
       "      <th>runtime_mins</th>\n",
       "      <th>imdb_url</th>\n",
       "      <th>...</th>\n",
       "      <th>news</th>\n",
       "      <th>reality-tv</th>\n",
       "      <th>romance</th>\n",
       "      <th>sci-fi</th>\n",
       "      <th>short</th>\n",
       "      <th>sport</th>\n",
       "      <th>talk-show</th>\n",
       "      <th>thriller</th>\n",
       "      <th>war</th>\n",
       "      <th>western</th>\n",
       "    </tr>\n",
       "  </thead>\n",
       "  <tbody>\n",
       "    <tr>\n",
       "      <th>0</th>\n",
       "      <td>La Casa de Papel</td>\n",
       "      <td>Netflix</td>\n",
       "      <td>8.5</td>\n",
       "      <td>215007</td>\n",
       "      <td>91</td>\n",
       "      <td>[action, crime, mystery, thriller]</td>\n",
       "      <td>TV-MA</td>\n",
       "      <td>2017</td>\n",
       "      <td>70</td>\n",
       "      <td>https://www.imdb.com/title/tt6468322/</td>\n",
       "      <td>...</td>\n",
       "      <td>0</td>\n",
       "      <td>0</td>\n",
       "      <td>0</td>\n",
       "      <td>0</td>\n",
       "      <td>0</td>\n",
       "      <td>0</td>\n",
       "      <td>0</td>\n",
       "      <td>1</td>\n",
       "      <td>0</td>\n",
       "      <td>0</td>\n",
       "    </tr>\n",
       "    <tr>\n",
       "      <th>1</th>\n",
       "      <td>Ozark</td>\n",
       "      <td>Netflix</td>\n",
       "      <td>8.4</td>\n",
       "      <td>136710</td>\n",
       "      <td>81</td>\n",
       "      <td>[crime, drama, thriller]</td>\n",
       "      <td>TV-MA</td>\n",
       "      <td>2017</td>\n",
       "      <td>60</td>\n",
       "      <td>https://www.imdb.com/title/tt5071412/</td>\n",
       "      <td>...</td>\n",
       "      <td>0</td>\n",
       "      <td>0</td>\n",
       "      <td>0</td>\n",
       "      <td>0</td>\n",
       "      <td>0</td>\n",
       "      <td>0</td>\n",
       "      <td>0</td>\n",
       "      <td>1</td>\n",
       "      <td>0</td>\n",
       "      <td>0</td>\n",
       "    </tr>\n",
       "    <tr>\n",
       "      <th>2</th>\n",
       "      <td>Tiger King</td>\n",
       "      <td>Netflix</td>\n",
       "      <td>7.8</td>\n",
       "      <td>33700</td>\n",
       "      <td>86</td>\n",
       "      <td>[documentary, crime]</td>\n",
       "      <td>TV-MA</td>\n",
       "      <td>2020</td>\n",
       "      <td>31</td>\n",
       "      <td>https://www.imdb.com/title/tt11823076/</td>\n",
       "      <td>...</td>\n",
       "      <td>0</td>\n",
       "      <td>0</td>\n",
       "      <td>0</td>\n",
       "      <td>0</td>\n",
       "      <td>0</td>\n",
       "      <td>0</td>\n",
       "      <td>0</td>\n",
       "      <td>0</td>\n",
       "      <td>0</td>\n",
       "      <td>0</td>\n",
       "    </tr>\n",
       "    <tr>\n",
       "      <th>3</th>\n",
       "      <td>Westworld</td>\n",
       "      <td>HBO</td>\n",
       "      <td>8.7</td>\n",
       "      <td>388252</td>\n",
       "      <td>85</td>\n",
       "      <td>[drama, mystery, sci-fi, western]</td>\n",
       "      <td>TV-MA</td>\n",
       "      <td>2016</td>\n",
       "      <td>62</td>\n",
       "      <td>https://www.imdb.com/title/tt0475784/</td>\n",
       "      <td>...</td>\n",
       "      <td>0</td>\n",
       "      <td>0</td>\n",
       "      <td>0</td>\n",
       "      <td>1</td>\n",
       "      <td>0</td>\n",
       "      <td>0</td>\n",
       "      <td>0</td>\n",
       "      <td>0</td>\n",
       "      <td>0</td>\n",
       "      <td>1</td>\n",
       "    </tr>\n",
       "    <tr>\n",
       "      <th>4</th>\n",
       "      <td>The Walking Dead</td>\n",
       "      <td>AMC</td>\n",
       "      <td>8.2</td>\n",
       "      <td>821809</td>\n",
       "      <td>81</td>\n",
       "      <td>[drama, horror, thriller]</td>\n",
       "      <td>TV-MA</td>\n",
       "      <td>2010</td>\n",
       "      <td>44</td>\n",
       "      <td>https://www.imdb.com/title/tt1520211/</td>\n",
       "      <td>...</td>\n",
       "      <td>0</td>\n",
       "      <td>0</td>\n",
       "      <td>0</td>\n",
       "      <td>0</td>\n",
       "      <td>0</td>\n",
       "      <td>0</td>\n",
       "      <td>0</td>\n",
       "      <td>1</td>\n",
       "      <td>0</td>\n",
       "      <td>0</td>\n",
       "    </tr>\n",
       "  </tbody>\n",
       "</table>\n",
       "<p>5 rows × 36 columns</p>\n",
       "</div>"
      ],
      "text/plain": [
       "              title  network  imdb_rating  num_imdb_ratings  rt_critic_rating  \\\n",
       "0  La Casa de Papel  Netflix          8.5            215007                91   \n",
       "1             Ozark  Netflix          8.4            136710                81   \n",
       "2        Tiger King  Netflix          7.8             33700                86   \n",
       "3         Westworld      HBO          8.7            388252                85   \n",
       "4  The Walking Dead      AMC          8.2            821809                81   \n",
       "\n",
       "                               genres tv_rating  release_year  runtime_mins  \\\n",
       "0  [action, crime, mystery, thriller]     TV-MA          2017            70   \n",
       "1            [crime, drama, thriller]     TV-MA          2017            60   \n",
       "2                [documentary, crime]     TV-MA          2020            31   \n",
       "3   [drama, mystery, sci-fi, western]     TV-MA          2016            62   \n",
       "4           [drama, horror, thriller]     TV-MA          2010            44   \n",
       "\n",
       "                                 imdb_url  ...  news  reality-tv  romance  \\\n",
       "0   https://www.imdb.com/title/tt6468322/  ...     0           0        0   \n",
       "1   https://www.imdb.com/title/tt5071412/  ...     0           0        0   \n",
       "2  https://www.imdb.com/title/tt11823076/  ...     0           0        0   \n",
       "3   https://www.imdb.com/title/tt0475784/  ...     0           0        0   \n",
       "4   https://www.imdb.com/title/tt1520211/  ...     0           0        0   \n",
       "\n",
       "   sci-fi  short  sport  talk-show  thriller  war  western  \n",
       "0       0      0      0          0         1    0        0  \n",
       "1       0      0      0          0         1    0        0  \n",
       "2       0      0      0          0         0    0        0  \n",
       "3       1      0      0          0         0    0        1  \n",
       "4       0      0      0          0         1    0        0  \n",
       "\n",
       "[5 rows x 36 columns]"
      ]
     },
     "execution_count": 10,
     "metadata": {},
     "output_type": "execute_result"
    }
   ],
   "source": [
    "# Merge dummies dataframe onto original dataframe\n",
    "df = pd.concat([df, df_genres], axis=1)\n",
    "# Take a peek\n",
    "df.head()"
   ]
  },
  {
   "cell_type": "code",
   "execution_count": 11,
   "metadata": {},
   "outputs": [],
   "source": [
    "# Remove outliers for the crucial numerical data\n",
    "\n",
    "# Calculate the z-scores of the numerical data\n",
    "z_scores = stats.zscore(df[['imdb_rating', 'num_imdb_ratings', 'rt_critic_rating', 'release_year']])\n",
    "# Turn those scores into all positive values, so we can easily separate\n",
    "abs_z_scores = np.abs(z_scores)\n",
    "# Filter out outliers (more than 3 standard deviations from the mean)\n",
    "filtered_entries = (abs_z_scores < 3).all(axis=1)\n",
    "# Update the dataframe\n",
    "df = df[filtered_entries]"
   ]
  },
  {
   "cell_type": "code",
   "execution_count": 12,
   "metadata": {},
   "outputs": [
    {
     "data": {
      "text/plain": [
       "(231, 36)"
      ]
     },
     "execution_count": 12,
     "metadata": {},
     "output_type": "execute_result"
    }
   ],
   "source": [
    "# See that 16 rows were eliminated\n",
    "df.shape"
   ]
  },
  {
   "cell_type": "code",
   "execution_count": 13,
   "metadata": {},
   "outputs": [],
   "source": [
    "# Save a copy for good measure :P\n",
    "df.to_csv('shows_imdb_rt_updated.csv')"
   ]
  },
  {
   "cell_type": "code",
   "execution_count": 40,
   "metadata": {},
   "outputs": [
    {
     "data": {
      "text/html": [
       "<div>\n",
       "<style scoped>\n",
       "    .dataframe tbody tr th:only-of-type {\n",
       "        vertical-align: middle;\n",
       "    }\n",
       "\n",
       "    .dataframe tbody tr th {\n",
       "        vertical-align: top;\n",
       "    }\n",
       "\n",
       "    .dataframe thead th {\n",
       "        text-align: right;\n",
       "    }\n",
       "</style>\n",
       "<table border=\"1\" class=\"dataframe\">\n",
       "  <thead>\n",
       "    <tr style=\"text-align: right;\">\n",
       "      <th></th>\n",
       "      <th>title</th>\n",
       "      <th>network</th>\n",
       "      <th>imdb_rating</th>\n",
       "      <th>num_imdb_ratings</th>\n",
       "      <th>rt_critic_rating</th>\n",
       "      <th>genres</th>\n",
       "      <th>tv_rating</th>\n",
       "      <th>release_year</th>\n",
       "      <th>runtime_mins</th>\n",
       "      <th>imdb_url</th>\n",
       "      <th>...</th>\n",
       "      <th>news</th>\n",
       "      <th>reality-tv</th>\n",
       "      <th>romance</th>\n",
       "      <th>sci-fi</th>\n",
       "      <th>short</th>\n",
       "      <th>sport</th>\n",
       "      <th>talk-show</th>\n",
       "      <th>thriller</th>\n",
       "      <th>war</th>\n",
       "      <th>western</th>\n",
       "    </tr>\n",
       "  </thead>\n",
       "  <tbody>\n",
       "    <tr>\n",
       "      <th>0</th>\n",
       "      <td>La Casa de Papel</td>\n",
       "      <td>Netflix</td>\n",
       "      <td>8.5</td>\n",
       "      <td>215007</td>\n",
       "      <td>91</td>\n",
       "      <td>[action, crime, mystery, thriller]</td>\n",
       "      <td>TV-MA</td>\n",
       "      <td>2017</td>\n",
       "      <td>70</td>\n",
       "      <td>https://www.imdb.com/title/tt6468322/</td>\n",
       "      <td>...</td>\n",
       "      <td>0</td>\n",
       "      <td>0</td>\n",
       "      <td>0</td>\n",
       "      <td>0</td>\n",
       "      <td>0</td>\n",
       "      <td>0</td>\n",
       "      <td>0</td>\n",
       "      <td>1</td>\n",
       "      <td>0</td>\n",
       "      <td>0</td>\n",
       "    </tr>\n",
       "    <tr>\n",
       "      <th>1</th>\n",
       "      <td>Ozark</td>\n",
       "      <td>Netflix</td>\n",
       "      <td>8.4</td>\n",
       "      <td>136710</td>\n",
       "      <td>81</td>\n",
       "      <td>[crime, drama, thriller]</td>\n",
       "      <td>TV-MA</td>\n",
       "      <td>2017</td>\n",
       "      <td>60</td>\n",
       "      <td>https://www.imdb.com/title/tt5071412/</td>\n",
       "      <td>...</td>\n",
       "      <td>0</td>\n",
       "      <td>0</td>\n",
       "      <td>0</td>\n",
       "      <td>0</td>\n",
       "      <td>0</td>\n",
       "      <td>0</td>\n",
       "      <td>0</td>\n",
       "      <td>1</td>\n",
       "      <td>0</td>\n",
       "      <td>0</td>\n",
       "    </tr>\n",
       "    <tr>\n",
       "      <th>2</th>\n",
       "      <td>Tiger King</td>\n",
       "      <td>Netflix</td>\n",
       "      <td>7.8</td>\n",
       "      <td>33700</td>\n",
       "      <td>86</td>\n",
       "      <td>[documentary, crime]</td>\n",
       "      <td>TV-MA</td>\n",
       "      <td>2020</td>\n",
       "      <td>31</td>\n",
       "      <td>https://www.imdb.com/title/tt11823076/</td>\n",
       "      <td>...</td>\n",
       "      <td>0</td>\n",
       "      <td>0</td>\n",
       "      <td>0</td>\n",
       "      <td>0</td>\n",
       "      <td>0</td>\n",
       "      <td>0</td>\n",
       "      <td>0</td>\n",
       "      <td>0</td>\n",
       "      <td>0</td>\n",
       "      <td>0</td>\n",
       "    </tr>\n",
       "    <tr>\n",
       "      <th>3</th>\n",
       "      <td>Westworld</td>\n",
       "      <td>HBO</td>\n",
       "      <td>8.7</td>\n",
       "      <td>388252</td>\n",
       "      <td>85</td>\n",
       "      <td>[drama, mystery, sci-fi, western]</td>\n",
       "      <td>TV-MA</td>\n",
       "      <td>2016</td>\n",
       "      <td>62</td>\n",
       "      <td>https://www.imdb.com/title/tt0475784/</td>\n",
       "      <td>...</td>\n",
       "      <td>0</td>\n",
       "      <td>0</td>\n",
       "      <td>0</td>\n",
       "      <td>1</td>\n",
       "      <td>0</td>\n",
       "      <td>0</td>\n",
       "      <td>0</td>\n",
       "      <td>0</td>\n",
       "      <td>0</td>\n",
       "      <td>1</td>\n",
       "    </tr>\n",
       "    <tr>\n",
       "      <th>6</th>\n",
       "      <td>Better Call Saul</td>\n",
       "      <td>AMC</td>\n",
       "      <td>8.7</td>\n",
       "      <td>280536</td>\n",
       "      <td>97</td>\n",
       "      <td>[crime, drama]</td>\n",
       "      <td>TV-MA</td>\n",
       "      <td>2015</td>\n",
       "      <td>46</td>\n",
       "      <td>https://www.imdb.com/title/tt3032476/</td>\n",
       "      <td>...</td>\n",
       "      <td>0</td>\n",
       "      <td>0</td>\n",
       "      <td>0</td>\n",
       "      <td>0</td>\n",
       "      <td>0</td>\n",
       "      <td>0</td>\n",
       "      <td>0</td>\n",
       "      <td>0</td>\n",
       "      <td>0</td>\n",
       "      <td>0</td>\n",
       "    </tr>\n",
       "  </tbody>\n",
       "</table>\n",
       "<p>5 rows × 36 columns</p>\n",
       "</div>"
      ],
      "text/plain": [
       "              title  network  imdb_rating  num_imdb_ratings  rt_critic_rating  \\\n",
       "0  La Casa de Papel  Netflix          8.5            215007                91   \n",
       "1             Ozark  Netflix          8.4            136710                81   \n",
       "2        Tiger King  Netflix          7.8             33700                86   \n",
       "3         Westworld      HBO          8.7            388252                85   \n",
       "6  Better Call Saul      AMC          8.7            280536                97   \n",
       "\n",
       "                               genres tv_rating  release_year  runtime_mins  \\\n",
       "0  [action, crime, mystery, thriller]     TV-MA          2017            70   \n",
       "1            [crime, drama, thriller]     TV-MA          2017            60   \n",
       "2                [documentary, crime]     TV-MA          2020            31   \n",
       "3   [drama, mystery, sci-fi, western]     TV-MA          2016            62   \n",
       "6                      [crime, drama]     TV-MA          2015            46   \n",
       "\n",
       "                                 imdb_url  ...  news  reality-tv  romance  \\\n",
       "0   https://www.imdb.com/title/tt6468322/  ...     0           0        0   \n",
       "1   https://www.imdb.com/title/tt5071412/  ...     0           0        0   \n",
       "2  https://www.imdb.com/title/tt11823076/  ...     0           0        0   \n",
       "3   https://www.imdb.com/title/tt0475784/  ...     0           0        0   \n",
       "6   https://www.imdb.com/title/tt3032476/  ...     0           0        0   \n",
       "\n",
       "   sci-fi  short  sport  talk-show  thriller  war  western  \n",
       "0       0      0      0          0         1    0        0  \n",
       "1       0      0      0          0         1    0        0  \n",
       "2       0      0      0          0         0    0        0  \n",
       "3       1      0      0          0         0    0        1  \n",
       "6       0      0      0          0         0    0        0  \n",
       "\n",
       "[5 rows x 36 columns]"
      ]
     },
     "execution_count": 40,
     "metadata": {},
     "output_type": "execute_result"
    }
   ],
   "source": [
    "# Set up a parameter to include only contemporary shows (released in the last decade). Sneakily save a copy for good measure :P\n",
    "df_contemp = df[df['release_year'] >= 2010]\n",
    "df_contemp.to_csv('shows_imdb_rt_2010_onward.csv')\n",
    "df_contemp.head()"
   ]
  },
  {
   "cell_type": "code",
   "execution_count": 41,
   "metadata": {},
   "outputs": [
    {
     "data": {
      "text/plain": [
       "Index(['title', 'network', 'imdb_rating', 'num_imdb_ratings',\n",
       "       'rt_critic_rating', 'genres', 'tv_rating', 'release_year',\n",
       "       'runtime_mins', 'imdb_url', 'action', 'adventure', 'animation',\n",
       "       'biography', 'comedy', 'crime', 'documentary', 'drama', 'family',\n",
       "       'fantasy', 'game-show', 'history', 'horror', 'music', 'musical',\n",
       "       'mystery', 'news', 'reality-tv', 'romance', 'sci-fi', 'short', 'sport',\n",
       "       'talk-show', 'thriller', 'war', 'western'],\n",
       "      dtype='object')"
      ]
     },
     "execution_count": 41,
     "metadata": {},
     "output_type": "execute_result"
    }
   ],
   "source": [
    "# Get a list of column names, so we can create a dataframe with just the genre data\n",
    "df_contemp.columns"
   ]
  },
  {
   "cell_type": "code",
   "execution_count": 42,
   "metadata": {},
   "outputs": [
    {
     "data": {
      "text/html": [
       "<div>\n",
       "<style scoped>\n",
       "    .dataframe tbody tr th:only-of-type {\n",
       "        vertical-align: middle;\n",
       "    }\n",
       "\n",
       "    .dataframe tbody tr th {\n",
       "        vertical-align: top;\n",
       "    }\n",
       "\n",
       "    .dataframe thead th {\n",
       "        text-align: right;\n",
       "    }\n",
       "</style>\n",
       "<table border=\"1\" class=\"dataframe\">\n",
       "  <thead>\n",
       "    <tr style=\"text-align: right;\">\n",
       "      <th></th>\n",
       "      <th>action</th>\n",
       "      <th>adventure</th>\n",
       "      <th>animation</th>\n",
       "      <th>biography</th>\n",
       "      <th>comedy</th>\n",
       "      <th>crime</th>\n",
       "      <th>documentary</th>\n",
       "      <th>drama</th>\n",
       "      <th>family</th>\n",
       "      <th>fantasy</th>\n",
       "      <th>...</th>\n",
       "      <th>news</th>\n",
       "      <th>reality-tv</th>\n",
       "      <th>romance</th>\n",
       "      <th>sci-fi</th>\n",
       "      <th>short</th>\n",
       "      <th>sport</th>\n",
       "      <th>talk-show</th>\n",
       "      <th>thriller</th>\n",
       "      <th>war</th>\n",
       "      <th>western</th>\n",
       "    </tr>\n",
       "  </thead>\n",
       "  <tbody>\n",
       "    <tr>\n",
       "      <th>0</th>\n",
       "      <td>1</td>\n",
       "      <td>0</td>\n",
       "      <td>0</td>\n",
       "      <td>0</td>\n",
       "      <td>0</td>\n",
       "      <td>1</td>\n",
       "      <td>0</td>\n",
       "      <td>0</td>\n",
       "      <td>0</td>\n",
       "      <td>0</td>\n",
       "      <td>...</td>\n",
       "      <td>0</td>\n",
       "      <td>0</td>\n",
       "      <td>0</td>\n",
       "      <td>0</td>\n",
       "      <td>0</td>\n",
       "      <td>0</td>\n",
       "      <td>0</td>\n",
       "      <td>1</td>\n",
       "      <td>0</td>\n",
       "      <td>0</td>\n",
       "    </tr>\n",
       "    <tr>\n",
       "      <th>1</th>\n",
       "      <td>0</td>\n",
       "      <td>0</td>\n",
       "      <td>0</td>\n",
       "      <td>0</td>\n",
       "      <td>0</td>\n",
       "      <td>1</td>\n",
       "      <td>0</td>\n",
       "      <td>1</td>\n",
       "      <td>0</td>\n",
       "      <td>0</td>\n",
       "      <td>...</td>\n",
       "      <td>0</td>\n",
       "      <td>0</td>\n",
       "      <td>0</td>\n",
       "      <td>0</td>\n",
       "      <td>0</td>\n",
       "      <td>0</td>\n",
       "      <td>0</td>\n",
       "      <td>1</td>\n",
       "      <td>0</td>\n",
       "      <td>0</td>\n",
       "    </tr>\n",
       "    <tr>\n",
       "      <th>2</th>\n",
       "      <td>0</td>\n",
       "      <td>0</td>\n",
       "      <td>0</td>\n",
       "      <td>0</td>\n",
       "      <td>0</td>\n",
       "      <td>1</td>\n",
       "      <td>1</td>\n",
       "      <td>0</td>\n",
       "      <td>0</td>\n",
       "      <td>0</td>\n",
       "      <td>...</td>\n",
       "      <td>0</td>\n",
       "      <td>0</td>\n",
       "      <td>0</td>\n",
       "      <td>0</td>\n",
       "      <td>0</td>\n",
       "      <td>0</td>\n",
       "      <td>0</td>\n",
       "      <td>0</td>\n",
       "      <td>0</td>\n",
       "      <td>0</td>\n",
       "    </tr>\n",
       "    <tr>\n",
       "      <th>3</th>\n",
       "      <td>0</td>\n",
       "      <td>0</td>\n",
       "      <td>0</td>\n",
       "      <td>0</td>\n",
       "      <td>0</td>\n",
       "      <td>0</td>\n",
       "      <td>0</td>\n",
       "      <td>1</td>\n",
       "      <td>0</td>\n",
       "      <td>0</td>\n",
       "      <td>...</td>\n",
       "      <td>0</td>\n",
       "      <td>0</td>\n",
       "      <td>0</td>\n",
       "      <td>1</td>\n",
       "      <td>0</td>\n",
       "      <td>0</td>\n",
       "      <td>0</td>\n",
       "      <td>0</td>\n",
       "      <td>0</td>\n",
       "      <td>1</td>\n",
       "    </tr>\n",
       "    <tr>\n",
       "      <th>6</th>\n",
       "      <td>0</td>\n",
       "      <td>0</td>\n",
       "      <td>0</td>\n",
       "      <td>0</td>\n",
       "      <td>0</td>\n",
       "      <td>1</td>\n",
       "      <td>0</td>\n",
       "      <td>1</td>\n",
       "      <td>0</td>\n",
       "      <td>0</td>\n",
       "      <td>...</td>\n",
       "      <td>0</td>\n",
       "      <td>0</td>\n",
       "      <td>0</td>\n",
       "      <td>0</td>\n",
       "      <td>0</td>\n",
       "      <td>0</td>\n",
       "      <td>0</td>\n",
       "      <td>0</td>\n",
       "      <td>0</td>\n",
       "      <td>0</td>\n",
       "    </tr>\n",
       "  </tbody>\n",
       "</table>\n",
       "<p>5 rows × 26 columns</p>\n",
       "</div>"
      ],
      "text/plain": [
       "   action  adventure  animation  biography  comedy  crime  documentary  drama  \\\n",
       "0       1          0          0          0       0      1            0      0   \n",
       "1       0          0          0          0       0      1            0      1   \n",
       "2       0          0          0          0       0      1            1      0   \n",
       "3       0          0          0          0       0      0            0      1   \n",
       "6       0          0          0          0       0      1            0      1   \n",
       "\n",
       "   family  fantasy  ...  news  reality-tv  romance  sci-fi  short  sport  \\\n",
       "0       0        0  ...     0           0        0       0      0      0   \n",
       "1       0        0  ...     0           0        0       0      0      0   \n",
       "2       0        0  ...     0           0        0       0      0      0   \n",
       "3       0        0  ...     0           0        0       1      0      0   \n",
       "6       0        0  ...     0           0        0       0      0      0   \n",
       "\n",
       "   talk-show  thriller  war  western  \n",
       "0          0         1    0        0  \n",
       "1          0         1    0        0  \n",
       "2          0         0    0        0  \n",
       "3          0         0    0        1  \n",
       "6          0         0    0        0  \n",
       "\n",
       "[5 rows x 26 columns]"
      ]
     },
     "execution_count": 42,
     "metadata": {},
     "output_type": "execute_result"
    }
   ],
   "source": [
    "# Create dataframe of contemporary genre data\n",
    "genres_contemp = df_contemp[\n",
    "    ['action', 'adventure', 'animation',\n",
    "       'biography', 'comedy', 'crime', 'documentary', 'drama', 'family',\n",
    "       'fantasy', 'game-show', 'history', 'horror', 'music', 'musical',\n",
    "       'mystery', 'news', 'reality-tv', 'romance', 'sci-fi', 'short', 'sport',\n",
    "       'talk-show', 'thriller', 'war', 'western']\n",
    "    ]\n",
    "genres_contemp.head()"
   ]
  },
  {
   "cell_type": "code",
   "execution_count": 43,
   "metadata": {},
   "outputs": [
    {
     "data": {
      "text/plain": [
       "action         31\n",
       "adventure      21\n",
       "animation      15\n",
       "biography       6\n",
       "comedy         35\n",
       "crime          47\n",
       "documentary    14\n",
       "drama          97\n",
       "family          4\n",
       "fantasy        20\n",
       "game-show       0\n",
       "history        10\n",
       "horror         11\n",
       "music           2\n",
       "musical         1\n",
       "mystery        32\n",
       "news            1\n",
       "reality-tv      2\n",
       "romance        10\n",
       "sci-fi         27\n",
       "short           1\n",
       "sport           3\n",
       "talk-show       3\n",
       "thriller       42\n",
       "war             3\n",
       "western         2\n",
       "dtype: int64"
      ]
     },
     "execution_count": 43,
     "metadata": {},
     "output_type": "execute_result"
    }
   ],
   "source": [
    "# Look at sums of shows within each genre\n",
    "genres_contemp.sum()"
   ]
  },
  {
   "cell_type": "code",
   "execution_count": 44,
   "metadata": {},
   "outputs": [
    {
     "data": {
      "text/plain": [
       "(136, 26)"
      ]
     },
     "execution_count": 44,
     "metadata": {},
     "output_type": "execute_result"
    }
   ],
   "source": [
    "# 136 shows over 26 genres (shows can have more than 1 genre)\n",
    "genres_contemp.shape"
   ]
  },
  {
   "cell_type": "code",
   "execution_count": 45,
   "metadata": {},
   "outputs": [],
   "source": [
    "# Eliminate genres with small samples\n",
    "genres_contemp = genres_contemp[genres_contemp.columns[genres_contemp.sum() >= 10]]"
   ]
  },
  {
   "cell_type": "code",
   "execution_count": 46,
   "metadata": {},
   "outputs": [
    {
     "data": {
      "text/plain": [
       "(136, 14)"
      ]
     },
     "execution_count": 46,
     "metadata": {},
     "output_type": "execute_result"
    }
   ],
   "source": [
    "# still 136 shows, now over the 14 most common genres\n",
    "genres_contemp.shape"
   ]
  },
  {
   "cell_type": "code",
   "execution_count": 103,
   "metadata": {},
   "outputs": [
    {
     "data": {
      "text/plain": [
       "<matplotlib.axes._subplots.AxesSubplot at 0x1292088d0>"
      ]
     },
     "execution_count": 103,
     "metadata": {},
     "output_type": "execute_result"
    },
    {
     "data": {
      "image/png": "[encoded data removed]",
      "text/plain": [
       "<Figure size 432x288 with 1 Axes>"
      ]
     },
     "metadata": {},
     "output_type": "display_data"
    }
   ],
   "source": [
    "# quick look at most common genres\n",
    "sns.set_style(\"ticks\")\n",
    "genres_contemp.sum().sort_values(ascending=False).plot.bar()"
   ]
  },
  {
   "cell_type": "code",
   "execution_count": 48,
   "metadata": {},
   "outputs": [],
   "source": [
    "# Set up some variables to show the average ratings and popularity by genre\n",
    "# Do this by multiplying the ratings and # of ratings by the dummy values in the genre columns\n",
    "genres_contemp_imdb_rating = genres_contemp.apply(lambda x: x*df_contemp['imdb_rating'])\n",
    "genres_contemp_rt_rating = genres_contemp.apply(lambda x: x*df_contemp['rt_critic_rating'])\n",
    "genres_contemp_popularity = genres_contemp.apply(lambda x: x*df_contemp['num_imdb_ratings'])"
   ]
  },
  {
   "cell_type": "code",
   "execution_count": 49,
   "metadata": {},
   "outputs": [],
   "source": [
    "# Capture the average of each parameter per genre\n",
    "genre_imdb_avg = genres_contemp_imdb_rating.sum()/genres_contemp.sum()\n",
    "genre_rt_avg = genres_contemp_rt_rating.sum()/genres_contemp.sum()\n",
    "genre_pop_avg = genres_contemp_popularity.sum()/genres_contemp.sum()"
   ]
  },
  {
   "cell_type": "code",
   "execution_count": 95,
   "metadata": {},
   "outputs": [
    {
     "data": {
      "text/html": [
       "<div>\n",
       "<style scoped>\n",
       "    .dataframe tbody tr th:only-of-type {\n",
       "        vertical-align: middle;\n",
       "    }\n",
       "\n",
       "    .dataframe tbody tr th {\n",
       "        vertical-align: top;\n",
       "    }\n",
       "\n",
       "    .dataframe thead th {\n",
       "        text-align: right;\n",
       "    }\n",
       "</style>\n",
       "<table border=\"1\" class=\"dataframe\">\n",
       "  <thead>\n",
       "    <tr style=\"text-align: right;\">\n",
       "      <th></th>\n",
       "      <th>0</th>\n",
       "      <th>1</th>\n",
       "      <th>2</th>\n",
       "    </tr>\n",
       "  </thead>\n",
       "  <tbody>\n",
       "    <tr>\n",
       "      <th>action</th>\n",
       "      <td>87.096774</td>\n",
       "      <td>8.348387</td>\n",
       "      <td>118855.354839</td>\n",
       "    </tr>\n",
       "    <tr>\n",
       "      <th>adventure</th>\n",
       "      <td>86.904762</td>\n",
       "      <td>8.385714</td>\n",
       "      <td>135932.523810</td>\n",
       "    </tr>\n",
       "    <tr>\n",
       "      <th>animation</th>\n",
       "      <td>95.200000</td>\n",
       "      <td>8.680000</td>\n",
       "      <td>72380.466667</td>\n",
       "    </tr>\n",
       "    <tr>\n",
       "      <th>comedy</th>\n",
       "      <td>92.200000</td>\n",
       "      <td>8.522857</td>\n",
       "      <td>72374.714286</td>\n",
       "    </tr>\n",
       "    <tr>\n",
       "      <th>crime</th>\n",
       "      <td>88.829787</td>\n",
       "      <td>8.331915</td>\n",
       "      <td>133846.872340</td>\n",
       "    </tr>\n",
       "  </tbody>\n",
       "</table>\n",
       "</div>"
      ],
      "text/plain": [
       "                   0         1              2\n",
       "action     87.096774  8.348387  118855.354839\n",
       "adventure  86.904762  8.385714  135932.523810\n",
       "animation  95.200000  8.680000   72380.466667\n",
       "comedy     92.200000  8.522857   72374.714286\n",
       "crime      88.829787  8.331915  133846.872340"
      ]
     },
     "execution_count": 95,
     "metadata": {},
     "output_type": "execute_result"
    }
   ],
   "source": [
    "df_avg_compare = pd.concat([genre_rt_avg, genre_imdb_avg, genre_pop_avg], axis=1)\n",
    "df_avg_compare.head()"
   ]
  },
  {
   "cell_type": "code",
   "execution_count": 96,
   "metadata": {},
   "outputs": [],
   "source": [
    "df_avg_compare.columns = ['rt_avg', 'imdb_avg', 'pop_avg']"
   ]
  },
  {
   "cell_type": "code",
   "execution_count": 98,
   "metadata": {},
   "outputs": [],
   "source": [
    "df_avg_compare = df_avg_compare.sort_values('pop_avg')"
   ]
  },
  {
   "cell_type": "code",
   "execution_count": 101,
   "metadata": {},
   "outputs": [
    {
     "data": {
      "image/png": "[encoded data removed]",
      "text/plain": [
       "<Figure size 720x432 with 2 Axes>"
      ]
     },
     "metadata": {},
     "output_type": "display_data"
    }
   ],
   "source": [
    "# Take a look at the relationship between popularity and ratings\n",
    "sns.set_style(\"ticks\")\n",
    "fig = plt.figure(figsize=(10,6))\n",
    "plt.suptitle('Comparing Rating and Popularity by Genre', fontsize = 20)\n",
    "ax = fig.add_subplot(111)\n",
    "ax2 = ax.twinx()\n",
    "\n",
    "df_avg_compare.rt_avg.plot(kind='bar', color='salmon', ax=ax, width=0.3, position=1)\n",
    "df_avg_compare.pop_avg.plot(kind='bar', color='deepskyblue', ax=ax2, width=0.3 position=0)\n",
    "\n",
    "ax.set_xlabel('Genre', fontsize=15)\n",
    "ax.set_ylim(80,100)\n",
    "ax.set_ylabel('Rating', fontsize=15)\n",
    "ax2.set_ylabel('Popularity', fontsize=15, labelpad=15.0)\n",
    "plt.show()"
   ]
  },
  {
   "cell_type": "code",
   "execution_count": 51,
   "metadata": {},
   "outputs": [
    {
     "data": {
      "text/plain": [
       "-0.4877942302531624"
      ]
     },
     "execution_count": 51,
     "metadata": {},
     "output_type": "execute_result"
    }
   ],
   "source": [
    "# Correlation = -0.4877942302531624\n",
    "genre_pop_avg.corr(genre_imdb_avg)"
   ]
  },
  {
   "cell_type": "code",
   "execution_count": 52,
   "metadata": {},
   "outputs": [
    {
     "data": {
      "text/plain": [
       "-0.6446794882910207"
      ]
     },
     "execution_count": 52,
     "metadata": {},
     "output_type": "execute_result"
    }
   ],
   "source": [
    "# Correlation = -0.6446794882910207\n",
    "genre_pop_avg.corr(genre_rt_avg)"
   ]
  },
  {
   "cell_type": "markdown",
   "metadata": {},
   "source": [
    "Since we're trying to find what programming will generate revenue and excitement,success of a show should be measured by the popularity or number of ratings."
   ]
  },
  {
   "cell_type": "code",
   "execution_count": 54,
   "metadata": {},
   "outputs": [
    {
     "data": {
      "text/plain": [
       "Netflix                                                 34\n",
       "HBO                                                     13\n",
       "NBC                                                      8\n",
       "FX                                                       7\n",
       "Hulu                                                     6\n",
       "CW                                                       5\n",
       "Cartoon Network                                          4\n",
       "Amazon Prime Video                                       4\n",
       "Amazon                                                   3\n",
       "Starz                                                    3\n",
       "ABC                                                      3\n",
       "PBS                                                      3\n",
       "USA                                                      3\n",
       "Crunchyroll                                              2\n",
       "CBS                                                      2\n",
       "Showtime                                                 2\n",
       "BBC America                                              2\n",
       "History                                                  1\n",
       "NGC                                                      1\n",
       "Cartoon Network (Season 1-2) DC Universe (Season 3-)     1\n",
       "Acorn TV                                                 1\n",
       "Comedy Central                                           1\n",
       "Aniplex                                                  1\n",
       "Netflix (season 1); Hulu                                 1\n",
       "BBC America/AMC                                          1\n",
       "BBC UK                                                   1\n",
       "POP                                                      1\n",
       "BBC Two                                                  1\n",
       "Apple TV+                                                1\n",
       "SyFy (Seasons 1-3); Amazon Studios                       1\n",
       "SVT                                                      1\n",
       "SyFy                                                     1\n",
       "BBC                                                      1\n",
       "ZDF                                                      1\n",
       "Disney                                                   1\n",
       "Science                                                  1\n",
       "louisck.net                                              1\n",
       "AMC                                                      1\n",
       "AT-X                                                     1\n",
       "WEB TV US                                                1\n",
       "FOX; NBC                                                 1\n",
       "Netflix/Cartoon Network/Funimation                       1\n",
       "Channel 5                                                1\n",
       "Acorn                                                    1\n",
       "YouTube Premium                                          1\n",
       "FOX/Netflix                                              1\n",
       "Cinemax                                                  1\n",
       "TruTV                                                    1\n",
       "Disney+                                                  1\n",
       "Name: network, dtype: int64"
      ]
     },
     "execution_count": 54,
     "metadata": {},
     "output_type": "execute_result"
    }
   ],
   "source": [
    "# Hmm, some network values need cleaning up.\n",
    "df_contemp['network'].value_counts()"
   ]
  },
  {
   "cell_type": "code",
   "execution_count": 55,
   "metadata": {},
   "outputs": [
    {
     "name": "stderr",
     "output_type": "stream",
     "text": [
      "/opt/anaconda3/envs/learn-env/lib/python3.6/site-packages/ipykernel_launcher.py:24: SettingWithCopyWarning: \n",
      "A value is trying to be set on a copy of a slice from a DataFrame.\n",
      "Try using .loc[row_indexer,col_indexer] = value instead\n",
      "\n",
      "See the caveats in the documentation: https://pandas.pydata.org/pandas-docs/stable/user_guide/indexing.html#returning-a-view-versus-a-copy\n"
     ]
    }
   ],
   "source": [
    "# Clean up with np.select! \n",
    "conditions = [\n",
    "    (df_contemp['network'].str.find('BBC') >= 0),\n",
    "    (df_contemp['network'].str.find('Amazon') >= 0),\n",
    "    (df_contemp['network'].str.find('Hulu') >= 0),\n",
    "    (df_contemp['network'].str.find('NBC') >= 0),\n",
    "    (df_contemp['network'].str.find('Acorn') >= 0),\n",
    "    (df_contemp['network'].str.find('Cartoon Network') >= 0),\n",
    "    (df_contemp['network'].str.find('Netflix') >= 0),\n",
    "    (df_contemp['network'].str.find('Disney') >= 0)\n",
    "]\n",
    "\n",
    "choices = [\n",
    "    'BBC',\n",
    "    'Amazon',\n",
    "    'Hulu',\n",
    "    'NBC',\n",
    "    'Acorn',\n",
    "    'Cartoon Network',\n",
    "    'Netflix',\n",
    "    'Disney'\n",
    "]\n",
    "\n",
    "df_contemp['network'] = np.select(conditions, choices, default=df_contemp['network'])"
   ]
  },
  {
   "cell_type": "code",
   "execution_count": 56,
   "metadata": {},
   "outputs": [
    {
     "data": {
      "text/plain": [
       "Netflix            35\n",
       "HBO                13\n",
       "NBC                 9\n",
       "Amazon              8\n",
       "Hulu                7\n",
       "FX                  7\n",
       "BBC                 6\n",
       "Cartoon Network     6\n",
       "CW                  5\n",
       "ABC                 3\n",
       "PBS                 3\n",
       "USA                 3\n",
       "Starz               3\n",
       "Crunchyroll         2\n",
       "Acorn               2\n",
       "Showtime            2\n",
       "CBS                 2\n",
       "Disney              2\n",
       "Channel 5           1\n",
       "Aniplex             1\n",
       "SVT                 1\n",
       "History             1\n",
       "Comedy Central      1\n",
       "Science             1\n",
       "ZDF                 1\n",
       "Cinemax             1\n",
       "Apple TV+           1\n",
       "TruTV               1\n",
       "POP                 1\n",
       "SyFy                1\n",
       "YouTube Premium     1\n",
       "AT-X                1\n",
       "AMC                 1\n",
       "louisck.net         1\n",
       "WEB TV US           1\n",
       "NGC                 1\n",
       "Name: network, dtype: int64"
      ]
     },
     "execution_count": 56,
     "metadata": {},
     "output_type": "execute_result"
    }
   ],
   "source": [
    "# Take a peek\n",
    "df_contemp['network'].value_counts()"
   ]
  },
  {
   "cell_type": "code",
   "execution_count": 61,
   "metadata": {},
   "outputs": [],
   "source": [
    "# Let's focus on networks with 5 or more popular shows\n",
    "top_networks = ['Netflix', 'HBO', 'NBC', 'Amazon', 'Hulu', 'FX', 'BBC', 'Cartoon Network', 'CW']\n",
    "top_networks_contemp = df_contemp[df_contemp['network'].isin(top_networks)]"
   ]
  },
  {
   "cell_type": "code",
   "execution_count": 66,
   "metadata": {},
   "outputs": [],
   "source": [
    "# Add up the number of IMDB ratings per network, as well as the number of shows per network\n",
    "pop_per_network = top_networks_contemp.groupby('network')['num_imdb_ratings'].sum()\n",
    "shows_per_network = top_networks_contemp['network'].value_counts()"
   ]
  },
  {
   "cell_type": "code",
   "execution_count": 104,
   "metadata": {},
   "outputs": [
    {
     "data": {
      "text/plain": [
       "<matplotlib.axes._subplots.AxesSubplot at 0x1294e2828>"
      ]
     },
     "execution_count": 104,
     "metadata": {},
     "output_type": "execute_result"
    },
    {
     "data": {
      "image/png": "[encoded data removed]",
      "text/plain": [
       "<Figure size 720x432 with 1 Axes>"
      ]
     },
     "metadata": {},
     "output_type": "display_data"
    }
   ],
   "source": [
    "sns.set_style(\"ticks\")\n",
    "pop_per_network.plot.bar(figsize=(10,6))"
   ]
  },
  {
   "cell_type": "code",
   "execution_count": 64,
   "metadata": {},
   "outputs": [
    {
     "data": {
      "text/plain": [
       "Amazon              49572.500000\n",
       "BBC                 52983.500000\n",
       "CW                 180467.800000\n",
       "Cartoon Network    102299.000000\n",
       "FX                 121341.142857\n",
       "HBO                162752.384615\n",
       "Hulu                42499.714286\n",
       "NBC                 86102.555556\n",
       "Netflix            125023.228571\n",
       "dtype: float64"
      ]
     },
     "execution_count": 64,
     "metadata": {},
     "output_type": "execute_result"
    }
   ],
   "source": [
    "# Divide number of ratings by number of shows to get an average\n",
    "network_pop_avg = ratings_per_network/shows_per_network\n",
    "network_pop_avg"
   ]
  },
  {
   "cell_type": "code",
   "execution_count": 105,
   "metadata": {},
   "outputs": [
    {
     "data": {
      "text/plain": [
       "<matplotlib.axes._subplots.AxesSubplot at 0x1291dccf8>"
      ]
     },
     "execution_count": 105,
     "metadata": {},
     "output_type": "execute_result"
    },
    {
     "data": {
      "image/png": "[encoded data removed]",
      "text/plain": [
       "<Figure size 720x432 with 1 Axes>"
      ]
     },
     "metadata": {},
     "output_type": "display_data"
    }
   ],
   "source": [
    "# Plot out an average\n",
    "sns.set_style(\"ticks\")\n",
    "network_pop_avg.plot.bar(figsize=(10,6))"
   ]
  },
  {
   "cell_type": "code",
   "execution_count": null,
   "metadata": {},
   "outputs": [],
   "source": [
    "# Painstaking research regarding the originality of each programming\n",
    "# (0 = based on source material [including documentaries, spin-offs, etc.]\n",
    "#  1 = not based on source material)\n",
    "df_contemp['original'] = [\n",
    " 1, 1, 0, 0, 0, 0, 1, 0, 1, 1,\n",
    " 0, 0, 1, 0, 0, 1, 0, 1, 1, 0,\n",
    " 1, 0, 1, 1, 0, 1, 1, 1, 0, 1,\n",
    " 0, 0, 1, 0, 0, 0, 0, 1, 0, 0,\n",
    " 1, 0, 0, 1, 0, 0, 0, 1, 1, 1,\n",
    " 1, 0, 0, 1, 1, 1, 0, 0, 1, 1,\n",
    " 0, 0, 0, 1, 0, 0, 0, 0, 0, 0,\n",
    " 1, 0, 1, 1, 0, 1, 0, 0, 0, 0,\n",
    " 1, 0, 0, 0, 1, 0, 0, 0, 0, 1,\n",
    " 1, 1, 1, 0, 0, 0, 0, 0, 1, 0,\n",
    " 0, 1, 1, 0, 1, 1, 0, 0, 0, 0,\n",
    " 1, 0, 0, 1, 1, 0, 1, 1, 0, 1,\n",
    " 0, 0, 1, 0, 0, 1, 1, 0, 0, 1,\n",
    " 1, 0, 1, 1, 0, 1 ]"
   ]
  },
  {
   "cell_type": "code",
   "execution_count": 70,
   "metadata": {},
   "outputs": [
    {
     "data": {
      "text/plain": [
       "<matplotlib.axes._subplots.AxesSubplot at 0x1262fef60>"
      ]
     },
     "execution_count": 70,
     "metadata": {},
     "output_type": "execute_result"
    },
    {
     "data": {
      "image/png": "[encoded data removed]",
      "text/plain": [
       "<Figure size 432x288 with 1 Axes>"
      ]
     },
     "metadata": {
      "needs_background": "dark"
     },
     "output_type": "display_data"
    }
   ],
   "source": [
    "genres_contemp.sum().sort_values(ascending=False).plot.bar()"
   ]
  },
  {
   "cell_type": "code",
   "execution_count": 173,
   "metadata": {},
   "outputs": [],
   "source": [
    "genres_weight_imdb = genres.apply(lambda x: x*df['imdb_rating'])\n",
    "genres_weight_rt = genres.apply(lambda x: x*df['rt_critic_rating'])"
   ]
  },
  {
   "cell_type": "code",
   "execution_count": 186,
   "metadata": {},
   "outputs": [
    {
     "data": {
      "text/plain": [
       "action         8.461111\n",
       "adventure      8.507692\n",
       "animation      8.643243\n",
       "biography      8.600000\n",
       "comedy         8.551282\n",
       "crime          8.393846\n",
       "documentary    8.831250\n",
       "drama          8.402069\n",
       "family         8.688889\n",
       "fantasy        8.448571\n",
       "game-show      8.550000\n",
       "history        8.726667\n",
       "horror         8.300000\n",
       "music          8.575000\n",
       "musical        8.200000\n",
       "mystery        8.319231\n",
       "news           8.900000\n",
       "reality-tv     8.500000\n",
       "romance        8.400000\n",
       "sci-fi         8.465217\n",
       "short          8.500000\n",
       "sport          8.350000\n",
       "talk-show      8.675000\n",
       "thriller       8.415942\n",
       "war            8.755556\n",
       "western        8.600000\n",
       "dtype: float64"
      ]
     },
     "execution_count": 186,
     "metadata": {},
     "output_type": "execute_result"
    }
   ],
   "source": [
    "genres_weight_imdb.sum()/genres.sum()"
   ]
  },
  {
   "cell_type": "code",
   "execution_count": 176,
   "metadata": {},
   "outputs": [
    {
     "data": {
      "text/plain": [
       "action          88.814815\n",
       "adventure       89.230769\n",
       "animation       93.702703\n",
       "biography       85.375000\n",
       "comedy          91.987179\n",
       "crime           88.630769\n",
       "documentary     90.625000\n",
       "drama           87.951724\n",
       "family          94.888889\n",
       "fantasy         91.000000\n",
       "game-show      100.000000\n",
       "history         88.666667\n",
       "horror          87.466667\n",
       "music           96.750000\n",
       "musical         84.000000\n",
       "mystery         87.961538\n",
       "news            98.000000\n",
       "reality-tv      93.500000\n",
       "romance         86.789474\n",
       "sci-fi          90.304348\n",
       "short           77.000000\n",
       "sport           91.500000\n",
       "talk-show       81.500000\n",
       "thriller        88.594203\n",
       "war             93.222222\n",
       "western         93.500000\n",
       "dtype: float64"
      ]
     },
     "execution_count": 176,
     "metadata": {},
     "output_type": "execute_result"
    }
   ],
   "source": [
    "genres_weight_rt.sum()/genres.sum()"
   ]
  },
  {
   "cell_type": "code",
   "execution_count": 154,
   "metadata": {},
   "outputs": [
    {
     "data": {
      "text/plain": [
       "Index(['action', 'adventure', 'animation', 'biography', 'comedy', 'crime',\n",
       "       'documentary', 'drama', 'family', 'fantasy', 'game-show', 'history',\n",
       "       'horror', 'music', 'musical', 'mystery', 'news', 'reality-tv',\n",
       "       'romance', 'sci-fi', 'short', 'sport', 'talk-show', 'thriller', 'war',\n",
       "       'western'],\n",
       "      dtype='object')"
      ]
     },
     "execution_count": 154,
     "metadata": {},
     "output_type": "execute_result"
    }
   ],
   "source": [
    "df[df['release_year'] >= 2010]"
   ]
  },
  {
   "cell_type": "code",
   "execution_count": 217,
   "metadata": {},
   "outputs": [
    {
     "data": {
      "text/plain": [
       "(array([ 3.,  2.,  3.,  5.,  3.,  3.,  8.,  5.,  3.,  5., 10., 35., 18.,\n",
       "        22.,  4.,  1.,  1.,  1.,  2.,  2.]),\n",
       " array([7.2  , 7.315, 7.43 , 7.545, 7.66 , 7.775, 7.89 , 8.005, 8.12 ,\n",
       "        8.235, 8.35 , 8.465, 8.58 , 8.695, 8.81 , 8.925, 9.04 , 9.155,\n",
       "        9.27 , 9.385, 9.5  ]),\n",
       " <a list of 20 Patch objects>)"
      ]
     },
     "execution_count": 217,
     "metadata": {},
     "output_type": "execute_result"
    },
    {
     "data": {
      "image/png": "[encoded data removed]",
      "text/plain": [
       "<Figure size 432x288 with 1 Axes>"
      ]
     },
     "metadata": {
      "needs_background": "dark"
     },
     "output_type": "display_data"
    }
   ],
   "source": [
    "plt.hist(df[df['release_year'] >= 2010]['imdb_rating'], bins=20)"
   ]
  },
  {
   "cell_type": "code",
   "execution_count": 219,
   "metadata": {},
   "outputs": [
    {
     "data": {
      "text/plain": [
       "98     9.5\n",
       "64     9.4\n",
       "101    9.3\n",
       "102    9.3\n",
       "36     9.2\n",
       "      ... \n",
       "88     7.4\n",
       "60     7.4\n",
       "48     7.3\n",
       "44     7.2\n",
       "80     7.2\n",
       "Name: imdb_rating, Length: 136, dtype: float64"
      ]
     },
     "execution_count": 219,
     "metadata": {},
     "output_type": "execute_result"
    }
   ],
   "source": [
    "df[df['release_year'] >= 2010]['imdb_rating']"
   ]
  },
  {
   "cell_type": "code",
   "execution_count": 216,
   "metadata": {},
   "outputs": [
    {
     "data": {
      "text/plain": [
       "98     100\n",
       "64      96\n",
       "101     97\n",
       "102     93\n",
       "36      95\n",
       "      ... \n",
       "88      83\n",
       "60      66\n",
       "48      72\n",
       "44      59\n",
       "80      57\n",
       "Name: rt_critic_rating, Length: 136, dtype: int64"
      ]
     },
     "execution_count": 216,
     "metadata": {},
     "output_type": "execute_result"
    }
   ],
   "source": [
    "df[df['release_year'] >= 2010]['rt_critic_rating']"
   ]
  },
  {
   "cell_type": "code",
   "execution_count": 218,
   "metadata": {},
   "outputs": [
    {
     "data": {
      "text/plain": [
       "(array([ 4.,  1.,  1.,  0.,  3.,  2.,  2.,  1.,  2.,  4.,  2.,  6.,  5.,\n",
       "        12., 10.,  8., 24., 15., 17., 17.]),\n",
       " array([ 57.  ,  59.15,  61.3 ,  63.45,  65.6 ,  67.75,  69.9 ,  72.05,\n",
       "         74.2 ,  76.35,  78.5 ,  80.65,  82.8 ,  84.95,  87.1 ,  89.25,\n",
       "         91.4 ,  93.55,  95.7 ,  97.85, 100.  ]),\n",
       " <a list of 20 Patch objects>)"
      ]
     },
     "execution_count": 218,
     "metadata": {},
     "output_type": "execute_result"
    },
    {
     "data": {
      "image/png": "[encoded data removed]",
      "text/plain": [
       "<Figure size 432x288 with 1 Axes>"
      ]
     },
     "metadata": {
      "needs_background": "dark"
     },
     "output_type": "display_data"
    }
   ],
   "source": [
    "plt.hist(df[df['release_year'] >= 2010]['rt_critic_rating'], bins=20)"
   ]
  },
  {
   "cell_type": "code",
   "execution_count": 228,
   "metadata": {},
   "outputs": [],
   "source": [
    "df1 = df[df['runtime_mins'] <= 43]\n",
    "df2 = df[df['runtime_mins'] > 43]"
   ]
  },
  {
   "cell_type": "code",
   "execution_count": 229,
   "metadata": {},
   "outputs": [
    {
     "data": {
      "text/plain": [
       "count    118.000000\n",
       "mean       8.488136\n",
       "std        0.407865\n",
       "min        7.200000\n",
       "25%        8.400000\n",
       "50%        8.500000\n",
       "75%        8.700000\n",
       "max        9.500000\n",
       "Name: imdb_rating, dtype: float64"
      ]
     },
     "execution_count": 229,
     "metadata": {},
     "output_type": "execute_result"
    }
   ],
   "source": [
    "df1['imdb_rating'].describe()"
   ]
  },
  {
   "cell_type": "code",
   "execution_count": 230,
   "metadata": {},
   "outputs": [
    {
     "data": {
      "text/plain": [
       "count    113.000000\n",
       "mean       8.475221\n",
       "std        0.396982\n",
       "min        7.200000\n",
       "25%        8.400000\n",
       "50%        8.500000\n",
       "75%        8.700000\n",
       "max        9.400000\n",
       "Name: imdb_rating, dtype: float64"
      ]
     },
     "execution_count": 230,
     "metadata": {},
     "output_type": "execute_result"
    }
   ],
   "source": [
    "df2['imdb_rating'].describe()"
   ]
  },
  {
   "cell_type": "code",
   "execution_count": 231,
   "metadata": {},
   "outputs": [
    {
     "data": {
      "text/plain": [
       "count    118.000000\n",
       "mean      91.762712\n",
       "std        8.497036\n",
       "min       57.000000\n",
       "25%       88.000000\n",
       "50%       93.000000\n",
       "75%      100.000000\n",
       "max      100.000000\n",
       "Name: rt_critic_rating, dtype: float64"
      ]
     },
     "execution_count": 231,
     "metadata": {},
     "output_type": "execute_result"
    }
   ],
   "source": [
    "df1['rt_critic_rating'].describe()"
   ]
  },
  {
   "cell_type": "code",
   "execution_count": 232,
   "metadata": {},
   "outputs": [
    {
     "data": {
      "text/plain": [
       "count    113.000000\n",
       "mean      86.867257\n",
       "std       10.043214\n",
       "min       59.000000\n",
       "25%       82.000000\n",
       "50%       89.000000\n",
       "75%       94.000000\n",
       "max      100.000000\n",
       "Name: rt_critic_rating, dtype: float64"
      ]
     },
     "execution_count": 232,
     "metadata": {},
     "output_type": "execute_result"
    }
   ],
   "source": [
    "df2['rt_critic_rating'].describe()"
   ]
  },
  {
   "cell_type": "code",
   "execution_count": 71,
   "metadata": {},
   "outputs": [
    {
     "data": {
      "text/plain": [
       "<matplotlib.axes._subplots.AxesSubplot at 0x127d8fbe0>"
      ]
     },
     "execution_count": 71,
     "metadata": {},
     "output_type": "execute_result"
    },
    {
     "data": {
      "image/png": "[encoded data removed]",
      "text/plain": [
       "<Figure size 432x288 with 1 Axes>"
      ]
     },
     "metadata": {
      "needs_background": "dark"
     },
     "output_type": "display_data"
    }
   ],
   "source": [
    "top_networks_contemp.groupby(['network','release_year'])['title'].count().unstack().plot(kind='bar', stacked=True, legend=False)"
   ]
  },
  {
   "cell_type": "code",
   "execution_count": 75,
   "metadata": {},
   "outputs": [
    {
     "data": {
      "text/plain": [
       "<matplotlib.collections.PathCollection at 0x12824c278>"
      ]
     },
     "execution_count": 75,
     "metadata": {},
     "output_type": "execute_result"
    },
    {
     "data": {
      "image/png": "[encoded data removed]",
      "text/plain": [
       "<Figure size 432x288 with 1 Axes>"
      ]
     },
     "metadata": {
      "needs_background": "dark"
     },
     "output_type": "display_data"
    }
   ],
   "source": [
    "plt.scatter(df_contemp['num_imdb_ratings'], df_contemp['imdb_rating'])"
   ]
  },
  {
   "cell_type": "code",
   "execution_count": 77,
   "metadata": {},
   "outputs": [
    {
     "data": {
      "text/plain": [
       "<matplotlib.collections.PathCollection at 0x1284703c8>"
      ]
     },
     "execution_count": 77,
     "metadata": {},
     "output_type": "execute_result"
    },
    {
     "data": {
      "image/png": "[encoded data removed]",
      "text/plain": [
       "<Figure size 432x288 with 1 Axes>"
      ]
     },
     "metadata": {
      "needs_background": "dark"
     },
     "output_type": "display_data"
    }
   ],
   "source": [
    "plt.scatter(genre_pop_avg, genre_imdb_avg)"
   ]
  },
  {
   "cell_type": "code",
   "execution_count": null,
   "metadata": {},
   "outputs": [],
   "source": []
  }
 ],
 "metadata": {
  "kernelspec": {
   "display_name": "Python [conda env:learn-env] *",
   "language": "python",
   "name": "conda-env-learn-env-py"
  },
  "language_info": {
   "codemirror_mode": {
    "name": "ipython",
    "version": 3
   },
   "file_extension": ".py",
   "mimetype": "text/x-python",
   "name": "python",
   "nbconvert_exporter": "python",
   "pygments_lexer": "ipython3",
   "version": "3.6.9"
  }
 },
 "nbformat": 4,
 "nbformat_minor": 2
}
